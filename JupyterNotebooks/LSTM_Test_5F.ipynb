{
 "cells": [
  {
   "cell_type": "code",
   "execution_count": 1,
   "metadata": {},
   "outputs": [],
   "source": [
    "## Five finger (5F) EEG Classification using LSTM-based RNN"
   ]
  },
  {
   "cell_type": "code",
   "execution_count": 5,
   "metadata": {},
   "outputs": [
    {
     "name": "stdout",
     "output_type": "stream",
     "text": [
      "[[ -0.    -0.    -0.   ...  42.98 -11.25 -54.89]\n",
      " [ -0.    -0.    -0.   ...  37.77  -3.2  -57.64]\n",
      " [ -0.    -0.    -0.   ...  36.85  -3.78 -50.66]\n",
      " ...\n",
      " [ -0.    -0.    -0.   ...   7.51 -19.17 -41.75]\n",
      " [ -0.    -0.    -0.   ...  23.26  -0.6  -15.94]\n",
      " [ -0.    -0.    -0.   ...  24.24   6.41 -14.74]]\n",
      "Number of samples: 3596000\n",
      "Dataset ID: 201603111905.D091BB44\n",
      "Channel names: [array(['Fp1'], dtype='<U3') array(['Fp2'], dtype='<U3')\n",
      " array(['F3'], dtype='<U2') array(['F4'], dtype='<U2')\n",
      " array(['C3'], dtype='<U2') array(['C4'], dtype='<U2')\n",
      " array(['P3'], dtype='<U2') array(['P4'], dtype='<U2')\n",
      " array(['O1'], dtype='<U2') array(['O2'], dtype='<U2')\n",
      " array(['A1'], dtype='<U2') array(['A2'], dtype='<U2')\n",
      " array(['F7'], dtype='<U2') array(['F8'], dtype='<U2')\n",
      " array(['T3'], dtype='<U2') array(['T4'], dtype='<U2')\n",
      " array(['T5'], dtype='<U2') array(['T6'], dtype='<U2')\n",
      " array(['Fz'], dtype='<U2') array(['Cz'], dtype='<U2')\n",
      " array(['Pz'], dtype='<U2') array(['X5'], dtype='<U2')]\n"
     ]
    }
   ],
   "source": [
    "## This file is used to split data into series of arrays and their corresponding MI task.\n",
    "import scipy.io as sio\n",
    "import matplotlib.pyplot as plt\n",
    "import numpy as np\n",
    "import scipy.linalg as la\n",
    "file = sio.loadmat('../../../matDown/5F_Data/5F-SubjectB-160311-5St-SGLHand-HFREQ.mat') #replace with .mat file name\n",
    "header=file['__header__']\n",
    "version=file['__version__']\n",
    "glob=file['__globals__']\n",
    "#ans=file['ans']\n",
    "\n",
    "\n",
    "#x=file['x']\n",
    "o=file['o'][0][0]\n",
    "data=o['data']\n",
    "data = np.transpose(data)\n",
    "data = data[0:21,:];\n",
    "print(data)\n",
    "nS=o['nS'][0][0]\n",
    "#values of structure seem to be 2D numpy arrays, if originally a scalar in Matlab.\n",
    "#use [0][0] to get scalar.\n",
    "print(\"Number of samples: {numSamples}\".format(numSamples=nS))\n",
    "test=o['id'][0] #id value became a 1D array of size 1 for some reason. use [0] to get value\n",
    "print(\"Dataset ID: {id}\".format(id=test))\n",
    "chnames=o['chnames'][:,0] #[:,0] converts from 2D array back to 1D array\n",
    "print(\"Channel names: {channelNames}\".format(channelNames=chnames))\n",
    "markers = o['marker']\n",
    "## The markers are all still individual arrays of size 1x1, so we convert them to an array with single values\n",
    "markersArray = []\n",
    "for marker in markers:\n",
    "    markersArray.append(marker[0])\n",
    "markersArray = np.asarray(markersArray)\n",
    "\n",
    "#################################\n",
    "#################################\n",
    "#5F interaction paradigm\n",
    "#1-thumb MI, 2-index finger MI, 3-middle finger MI, 4-ring finger MI, 5-pinkie finger MI\n",
    "\n",
    "#all paradigms\n",
    "#99-initial relaxation period\n",
    "#91-inter-session rest break period\n",
    "#92-experiment end\n",
    "#################################"
   ]
  },
  {
   "cell_type": "code",
   "execution_count": 6,
   "metadata": {},
   "outputs": [],
   "source": [
    "## CSP File from: https://github.com/spolsley/common-spatial-patterns\n",
    "\n",
    "# CSP takes any number of arguments, but each argument must be a collection of trials associated with a task\n",
    "# That is, for N tasks, N arrays are passed to CSP each with dimensionality (# of trials of task N) x (feature vector)\n",
    "# Trials may be of any dimension, provided that each trial for each task has the same dimensionality,\n",
    "# otherwise there can be no spatial filtering since the trials cannot be compared\n",
    "def CSP(*tasks):\n",
    "\tif len(tasks) < 2:\n",
    "\t\tprint(\"Must have at least 2 tasks for filtering.\")\n",
    "\t\treturn (None,) * len(tasks)\n",
    "\telse:\n",
    "\t\tfilters = ()\n",
    "\t\t# CSP algorithm\n",
    "\t\t# For each task x, find the mean variances Rx and not_Rx, which will be used to compute spatial filter SFx\n",
    "\t\titerator = range(0,len(tasks))\n",
    "\t\tfor x in iterator:\n",
    "\t\t\t# Find Rx\n",
    "\t\t\tRx = covarianceMatrix(tasks[x][0])\n",
    "\t\t\tfor t in range(1,len(tasks[x])):\n",
    "\t\t\t\tRx += covarianceMatrix(tasks[x][t])\n",
    "\t\t\tRx = Rx / len(tasks[x])\n",
    "\n",
    "\t\t\t# Find not_Rx\n",
    "\t\t\tcount = 0\n",
    "\t\t\tnot_Rx = Rx * 0\n",
    "\t\t\tfor not_x in [element for element in iterator if element != x]:\n",
    "\t\t\t\tfor t in range(0,len(tasks[not_x])):\n",
    "\t\t\t\t\tnot_Rx += covarianceMatrix(tasks[not_x][t])\n",
    "\t\t\t\t\tcount += 1\n",
    "\t\t\tnot_Rx = not_Rx / count\n",
    "\n",
    "\t\t\t# Find the spatial filter SFx\n",
    "\t\t\tSFx = spatialFilter(Rx,not_Rx)\n",
    "\t\t\tfilters += (SFx,)\n",
    "\n",
    "\t\t\t# Special case: only two tasks, no need to compute any more mean variances\n",
    "\t\t\tif len(tasks) == 2:\n",
    "\t\t\t\tfilters += (spatialFilter(not_Rx,Rx),)\n",
    "\t\t\t\tbreak\n",
    "\t\treturn filters\n",
    "\n",
    "# covarianceMatrix takes a matrix A and returns the covariance matrix, scaled by the variance\n",
    "def covarianceMatrix(A):\n",
    "\tCa = np.dot(A,np.transpose(A))/np.trace(np.dot(A,np.transpose(A)))\n",
    "\treturn Ca\n",
    "\n",
    "# spatialFilter returns the spatial filter SFa for mean covariance matrices Ra and Rb\n",
    "def spatialFilter(Ra,Rb):\n",
    "\tR = Ra + Rb\n",
    "\tE,U = la.eig(R)\n",
    "\n",
    "\t# CSP requires the eigenvalues E and eigenvector U be sorted in descending order\n",
    "\tord = np.argsort(E)\n",
    "\tord = ord[::-1] # argsort gives ascending order, flip to get descending\n",
    "\tE = E[ord]\n",
    "\tU = U[:,ord]\n",
    "\n",
    "\t# Find the whitening transformation matrix\n",
    "\tP = np.dot(np.sqrt(la.inv(np.diag(E))),np.transpose(U))\n",
    "\n",
    "\t# The mean covariance matrices may now be transformed\n",
    "\tSa = np.dot(P,np.dot(Ra,np.transpose(P)))\n",
    "\tSb = np.dot(P,np.dot(Rb,np.transpose(P)))\n",
    "\n",
    "\t# Find and sort the generalized eigenvalues and eigenvector\n",
    "\tE1,U1 = la.eig(Sa,Sb)\n",
    "\tord1 = np.argsort(E1)\n",
    "\tord1 = ord1[::-1]\n",
    "\tE1 = E1[ord1]\n",
    "\tU1 = U1[:,ord1]\n",
    "\n",
    "\t# The projection matrix (the spatial filter) may now be obtained\n",
    "\tSFa = np.dot(np.transpose(U1),P)\n",
    "\treturn SFa.astype(np.float32)"
   ]
  },
  {
   "cell_type": "code",
   "execution_count": 7,
   "metadata": {},
   "outputs": [
    {
     "name": "stdout",
     "output_type": "stream",
     "text": [
      "Number of index changes: 1934\n",
      "Number of arrays in data split: 1934\n",
      "Number of marker targets: 1934\n"
     ]
    }
   ],
   "source": [
    "## Find the starting indeces where the marker changes\n",
    "changeIdxs = np.where(np.transpose(markersArray)[:-1] != np.transpose(markersArray)[1:])[0]\n",
    "print(\"Number of index changes: {idxChanges}\".format(idxChanges=changeIdxs.shape[0]))\n",
    "## Split the data so that it has its matching marker\n",
    "dataSplit = np.array_split(data, changeIdxs[:-1], axis=1)\n",
    "splitCount = 0\n",
    "for splitData in dataSplit:\n",
    "    splitCount += 1\n",
    "print(\"Number of arrays in data split: {num}\".format(num=splitCount))\n",
    "## Retrieve the marker values for each of the change indeces (changeIdxs)\n",
    "markerTargets = markersArray[changeIdxs];\n",
    "print(\"Number of marker targets: {numTargets}\".format(numTargets=markerTargets.shape[0]))"
   ]
  },
  {
   "cell_type": "code",
   "execution_count": 15,
   "metadata": {},
   "outputs": [
    {
     "name": "stdout",
     "output_type": "stream",
     "text": [
      "Thumb Marker Count: (209,)\tSize of First: (21,4635)\n",
      "Thumb Marker Count: (209,)\tSize of Second: (21,1308)\n",
      "Thumb Marker Count: (209,)\tSize of Third: (21,1297)\n"
     ]
    }
   ],
   "source": [
    "## To Apply CSP, we first only get the indeces for MI tasks 1 and 2 (left and right hand, respectively.)\n",
    "tIdx = np.where(markerTargets == 1)[0]\n",
    "iIdx = np.where(markerTargets == 2)[0]\n",
    "mIdx = np.where(markerTargets == 3)[0]\n",
    "rIdx = np.where(markerTargets == 4)[0]\n",
    "pIdx = np.where(markerTargets == 5)[0]\n",
    "tCount = tIdx.shape\n",
    "print(\"Thumb Marker Count: {}\\tSize of First: ({},{})\".format(tCount, dataSplit[tIdx[0]].shape[0],dataSplit[tIdx[0]].shape[1]))\n",
    "print(\"Thumb Marker Count: {}\\tSize of Second: ({},{})\".format(tCount, dataSplit[tIdx[1]].shape[0],dataSplit[tIdx[1]].shape[1]))\n",
    "print(\"Thumb Marker Count: {}\\tSize of Third: ({},{})\".format(tCount, dataSplit[tIdx[2]].shape[0],dataSplit[tIdx[2]].shape[1]))"
   ]
  },
  {
   "cell_type": "code",
   "execution_count": 29,
   "metadata": {},
   "outputs": [
    {
     "name": "stdout",
     "output_type": "stream",
     "text": [
      "1275\n"
     ]
    }
   ],
   "source": [
    "def GetMinSteps(indeces, data):\n",
    "    minVal = 9999;\n",
    "    for index in indeces:\n",
    "        length = data[index].shape[1];\n",
    "        if(length < minVal):\n",
    "            minVal = length;\n",
    "    return minVal\n",
    "\n",
    "tIdxMin = GetMinSteps(tIdx, dataSplit)\n",
    "iIdxMin = GetMinSteps(iIdx, dataSplit)\n",
    "mIdxMin = GetMinSteps(mIdx, dataSplit)\n",
    "rIdxMin = GetMinSteps(rIdx, dataSplit)\n",
    "pIdxMin = GetMinSteps(pIdx, dataSplit)\n",
    "minValues = [tIdxMin, iIdxMin, mIdxMin, rIdxMin, pIdxMin]\n",
    "minValues\n",
    "\n",
    "#Truncate the data to the min size\n",
    "minValue = np.min(minValues)\n",
    "print(minValue)"
   ]
  },
  {
   "cell_type": "code",
   "execution_count": 40,
   "metadata": {},
   "outputs": [],
   "source": [
    "currentData = dataSplit[11]"
   ]
  },
  {
   "cell_type": "code",
   "execution_count": 44,
   "metadata": {},
   "outputs": [],
   "source": [
    "currentDataTrunc = currentData[:,0:1275]"
   ]
  },
  {
   "cell_type": "code",
   "execution_count": 45,
   "metadata": {},
   "outputs": [
    {
     "data": {
      "text/plain": [
       "(21, 1275)"
      ]
     },
     "execution_count": 45,
     "metadata": {},
     "output_type": "execute_result"
    }
   ],
   "source": [
    "currentDataTrunc.shape"
   ]
  },
  {
   "cell_type": "code",
   "execution_count": 66,
   "metadata": {},
   "outputs": [
    {
     "name": "stdout",
     "output_type": "stream",
     "text": [
      "Length of tData: 209\n",
      "Length of iData: 173\n",
      "Length of mData: 198\n",
      "Length of rData: 190\n",
      "Length of pData: 189\n"
     ]
    }
   ],
   "source": [
    "def GetData(indeces, dataIn, truncateValue):\n",
    "    dataOut = []\n",
    "    truncate = True;\n",
    "    if truncateValue == 0:\n",
    "        truncate = False;\n",
    "    for idx in indeces:\n",
    "        currentData = dataIn[idx]\n",
    "        if truncate:\n",
    "            dataOut.append(currentData[:,0:truncateValue])\n",
    "        else:\n",
    "            dataOut.append(currentData)\n",
    "    return np.asarray(dataOut)\n",
    "\n",
    "tData = GetData(tIdx, dataSplit, minValue)\n",
    "iData = GetData(iIdx, dataSplit, minValue)\n",
    "mData = GetData(mIdx, dataSplit, minValue)\n",
    "rData = GetData(rIdx, dataSplit, minValue)\n",
    "pData = GetData(pIdx, dataSplit, minValue)\n",
    "print(\"Length of tData: {}\".format(len(tData)))\n",
    "print(\"Length of iData: {}\".format(len(iData)))\n",
    "print(\"Length of mData: {}\".format(len(mData)))\n",
    "print(\"Length of rData: {}\".format(len(rData)))\n",
    "print(\"Length of pData: {}\".format(len(pData)))\n",
    "\n",
    "minLen = np.min([len(tData), len(iData), len(mData), len(rData), len(pData)])\n",
    "\n",
    "##Want to make sure they are balanced, so we keep the minLen values\n",
    "tData = tData[0:minLen]\n",
    "iData = iData[0:minLen]\n",
    "mData = mData[0:minLen]\n",
    "rData = rData[0:minLen]\n",
    "pData = pData[0:minLen]"
   ]
  },
  {
   "cell_type": "code",
   "execution_count": 68,
   "metadata": {},
   "outputs": [
    {
     "name": "stdout",
     "output_type": "stream",
     "text": [
      "FingerData Shape: (865, 21, 1275)\tmarkerTargets Shape: (865, 5)\n"
     ]
    }
   ],
   "source": [
    "#Construct the target arrays and merge the data\n",
    "tTargets = np.tile(np.array([1,0,0,0,0]),(minLen,1))\n",
    "iTargets = np.tile(np.array([0,1,0,0,0]),(minLen,1))\n",
    "mTargets = np.tile(np.array([0,0,1,0,0]),(minLen,1))\n",
    "rTargets = np.tile(np.array([0,0,0,1,0]),(minLen,1))\n",
    "pTargets = np.tile(np.array([0,0,0,0,1]),(minLen,1))\n",
    "\n",
    "markerTargets = np.vstack((tTargets, iTargets, mTargets, rTargets, pTargets))\n",
    "FingerData = np.vstack((tData, iData, mData, rData, pData))\n",
    "\n",
    "#Sanity Check\n",
    "print(\"FingerData Shape: {arg1}\\tmarkerTargets Shape: {arg2}\".format(arg1=FingerData.shape, arg2=markerTargets.shape))"
   ]
  },
  {
   "cell_type": "code",
   "execution_count": 69,
   "metadata": {},
   "outputs": [],
   "source": [
    "## Construct LSTM using Tensorflow + Keras\n",
    "# Import Libraries\n",
    "from tensorflow.keras.models import Sequential\n",
    "from tensorflow.keras.layers import Dense\n",
    "from tensorflow.keras.layers import LSTM\n",
    "from tensorflow.keras.layers import SimpleRNN\n",
    "from tensorflow.keras.layers import Dropout\n",
    "from sklearn.model_selection import train_test_split\n",
    "from sklearn.utils import shuffle\n",
    "from tensorflow.keras import optimizers"
   ]
  },
  {
   "cell_type": "code",
   "execution_count": 70,
   "metadata": {},
   "outputs": [],
   "source": [
    "## Shuffle the data\n",
    "FingerData, markerTargets = shuffle(FingerData, markerTargets, random_state=0)"
   ]
  },
  {
   "cell_type": "code",
   "execution_count": 71,
   "metadata": {},
   "outputs": [
    {
     "data": {
      "text/plain": [
       "(605, 5)"
      ]
     },
     "execution_count": 71,
     "metadata": {},
     "output_type": "execute_result"
    }
   ],
   "source": [
    "## Split into train and test sets\n",
    "FingerDataTrain, FingerDataTest, markerTargetsTrain, markerTargetsTest = train_test_split(FingerData, markerTargets, test_size=0.3, random_state=1)\n",
    "markerTargetsTrain.shape"
   ]
  },
  {
   "cell_type": "code",
   "execution_count": 72,
   "metadata": {},
   "outputs": [],
   "source": [
    "## Reshape the data for time-series processing\n",
    "## Syntax np.reshape((numExamples, numTimeSteps, numInputs/numFeatures))\n",
    "FingerDataTrainRe = FingerDataTrain.reshape((FingerDataTrain.shape[0], FingerDataTrain.shape[1], FingerDataTrain.shape[2]))\n",
    "FingerDataTestRe = FingerDataTest.reshape((FingerDataTest.shape[0], FingerDataTest.shape[1], FingerDataTest.shape[2]))"
   ]
  },
  {
   "cell_type": "code",
   "execution_count": 73,
   "metadata": {},
   "outputs": [
    {
     "data": {
      "text/plain": [
       "(605, 21, 1275)"
      ]
     },
     "execution_count": 73,
     "metadata": {},
     "output_type": "execute_result"
    }
   ],
   "source": []
  },
  {
   "cell_type": "code",
   "execution_count": 77,
   "metadata": {},
   "outputs": [],
   "source": [
    "## Construct the model\n",
    "LSTM_EEG = Sequential()\n",
    "LSTM_EEG.add(LSTM((100),batch_input_shape=(None,FingerDataTrainRe.shape[1], FingerDataTrainRe.shape[2]), return_sequences=True))\n",
    "LSTM_EEG.add(LSTM((50), return_sequences=False))\n",
    "LSTM_EEG.add(Dense((5),activation='sigmoid'))"
   ]
  },
  {
   "cell_type": "code",
   "execution_count": 78,
   "metadata": {},
   "outputs": [
    {
     "name": "stdout",
     "output_type": "stream",
     "text": [
      "Model: \"sequential_1\"\n",
      "_________________________________________________________________\n",
      "Layer (type)                 Output Shape              Param #   \n",
      "=================================================================\n",
      "lstm_2 (LSTM)                (None, 21, 100)           550400    \n",
      "_________________________________________________________________\n",
      "lstm_3 (LSTM)                (None, 50)                30200     \n",
      "_________________________________________________________________\n",
      "dense_1 (Dense)              (None, 5)                 255       \n",
      "=================================================================\n",
      "Total params: 580,855\n",
      "Trainable params: 580,855\n",
      "Non-trainable params: 0\n",
      "_________________________________________________________________\n"
     ]
    }
   ],
   "source": [
    "LSTM_EEG.summary()\n",
    "sgd = optimizers.SGD(lr=0.05, decay=1e-6, momentum=0.9, nesterov=True)\n",
    "LSTM_EEG.compile(loss='binary_crossentropy', optimizer=sgd, metrics=['accuracy'])"
   ]
  },
  {
   "cell_type": "code",
   "execution_count": 79,
   "metadata": {},
   "outputs": [
    {
     "name": "stdout",
     "output_type": "stream",
     "text": [
      "Epoch 1/30\n",
      "38/38 - 1s - loss: 0.5372 - accuracy: 0.2264\n",
      "Epoch 2/30\n",
      "38/38 - 2s - loss: 0.4600 - accuracy: 0.5025\n",
      "Epoch 3/30\n",
      "38/38 - 1s - loss: 0.4049 - accuracy: 0.6744\n",
      "Epoch 4/30\n",
      "38/38 - 1s - loss: 0.3504 - accuracy: 0.7008\n",
      "Epoch 5/30\n",
      "38/38 - 1s - loss: 0.3185 - accuracy: 0.6876\n",
      "Epoch 6/30\n",
      "38/38 - 1s - loss: 0.2873 - accuracy: 0.7190\n",
      "Epoch 7/30\n",
      "38/38 - 1s - loss: 0.2686 - accuracy: 0.7372\n",
      "Epoch 8/30\n",
      "38/38 - 1s - loss: 0.2481 - accuracy: 0.7587\n",
      "Epoch 9/30\n",
      "38/38 - 1s - loss: 0.2162 - accuracy: 0.7884\n",
      "Epoch 10/30\n",
      "38/38 - 1s - loss: 0.2191 - accuracy: 0.7736\n",
      "Epoch 11/30\n",
      "38/38 - 1s - loss: 0.1730 - accuracy: 0.8430\n",
      "Epoch 12/30\n",
      "38/38 - 1s - loss: 0.1603 - accuracy: 0.8545\n",
      "Epoch 13/30\n",
      "38/38 - 1s - loss: 0.1725 - accuracy: 0.8496\n",
      "Epoch 14/30\n",
      "38/38 - 1s - loss: 0.1552 - accuracy: 0.8579\n",
      "Epoch 15/30\n",
      "38/38 - 1s - loss: 0.1650 - accuracy: 0.8463\n",
      "Epoch 16/30\n",
      "38/38 - 1s - loss: 0.1332 - accuracy: 0.8826\n",
      "Epoch 17/30\n",
      "38/38 - 1s - loss: 0.1258 - accuracy: 0.8893\n",
      "Epoch 18/30\n",
      "38/38 - 1s - loss: 0.0995 - accuracy: 0.9174\n",
      "Epoch 19/30\n",
      "38/38 - 1s - loss: 0.1002 - accuracy: 0.9223\n",
      "Epoch 20/30\n",
      "38/38 - 1s - loss: 0.1240 - accuracy: 0.8777\n",
      "Epoch 21/30\n",
      "38/38 - 1s - loss: 0.1325 - accuracy: 0.8777\n",
      "Epoch 22/30\n",
      "38/38 - 1s - loss: 0.1378 - accuracy: 0.8579\n",
      "Epoch 23/30\n",
      "38/38 - 1s - loss: 0.1143 - accuracy: 0.9008\n",
      "Epoch 24/30\n",
      "38/38 - 1s - loss: 0.1092 - accuracy: 0.8992\n",
      "Epoch 25/30\n",
      "38/38 - 1s - loss: 0.0928 - accuracy: 0.9174\n",
      "Epoch 26/30\n",
      "38/38 - 1s - loss: 0.0638 - accuracy: 0.9504\n",
      "Epoch 27/30\n",
      "38/38 - 1s - loss: 0.0624 - accuracy: 0.9537\n",
      "Epoch 28/30\n",
      "38/38 - 1s - loss: 0.0808 - accuracy: 0.9289\n",
      "Epoch 29/30\n",
      "38/38 - 1s - loss: 0.0926 - accuracy: 0.9107\n",
      "Epoch 30/30\n",
      "38/38 - 1s - loss: 0.0929 - accuracy: 0.9174\n"
     ]
    }
   ],
   "source": [
    "history = LSTM_EEG.fit(FingerDataTrain, markerTargetsTrain, epochs=30,verbose=2, batch_size=16)"
   ]
  },
  {
   "cell_type": "code",
   "execution_count": 80,
   "metadata": {},
   "outputs": [],
   "source": [
    "predictionsTest = LSTM_EEG.predict(FingerDataTest)"
   ]
  },
  {
   "cell_type": "code",
   "execution_count": 81,
   "metadata": {},
   "outputs": [],
   "source": [
    "predictionsTest[predictionsTest>0.5] = 1"
   ]
  },
  {
   "cell_type": "code",
   "execution_count": 82,
   "metadata": {},
   "outputs": [],
   "source": [
    "predictionsTest[predictionsTest <= 0.5] = 0"
   ]
  },
  {
   "cell_type": "code",
   "execution_count": 83,
   "metadata": {},
   "outputs": [],
   "source": [
    "comparisonArrayTest = predictionsTest == markerTargetsTest"
   ]
  },
  {
   "cell_type": "code",
   "execution_count": 85,
   "metadata": {},
   "outputs": [],
   "source": [
    "correctCountTest = 0\n",
    "for boolValues in comparisonArrayTest:\n",
    "    if(boolValues[0] & boolValues[1]):\n",
    "        correctCountTest += 1\n",
    "falseCountTest = FingerDataTest.shape[0] - correctCountTest\n",
    "\n",
    "predictionsTrain = LSTM_EEG.predict(FingerDataTrain)\n",
    "predictionsTrain[predictionsTrain>0.5] = 1;\n",
    "predictionsTrain[predictionsTrain<=0.5] = 0;\n",
    "comparisonArrayTrain = predictionsTrain == markerTargetsTrain;\n",
    "\n",
    "correctCountTrain = 0\n",
    "for boolValues in comparisonArrayTrain:\n",
    "    if(boolValues[0] & boolValues[1]):\n",
    "        correctCountTrain += 1\n",
    "falseCountTrain = FingerDataTrain.shape[0] - correctCountTrain"
   ]
  },
  {
   "cell_type": "code",
   "execution_count": 87,
   "metadata": {},
   "outputs": [
    {
     "name": "stdout",
     "output_type": "stream",
     "text": [
      "#################################\n",
      "#################################\n",
      "Training Performance:\n",
      "Correct MI Prediction: 586\n",
      "Incorrect MI Prediction: 19\n",
      "Percent Accuracy: 96.860%\n",
      "#################################\n",
      "#################################\n",
      "Testing Performance:\n",
      "Correct MI Prediction: 136\n",
      "Incorrect MI Prediction: 124\n",
      "Percent Accuracy: 52.308%\n",
      "#################################\n",
      "#################################\n"
     ]
    }
   ],
   "source": [
    "print(\"#################################\")\n",
    "print(\"#################################\")\n",
    "print(\"Training Performance:\\nCorrect MI Prediction: {}\\nIncorrect MI Prediction: {}\\nPercent Accuracy: {:.3f}%\".format(correctCountTrain, falseCountTrain, (correctCountTrain*100/FingerDataTrain.shape[0])))\n",
    "print(\"#################################\")\n",
    "print(\"#################################\")\n",
    "print(\"Testing Performance:\\nCorrect MI Prediction: {}\\nIncorrect MI Prediction: {}\\nPercent Accuracy: {:.3f}%\".format(correctCountTest, falseCountTest, (correctCountTest*100/FingerDataTest.shape[0])))\n",
    "print(\"#################################\")\n",
    "print(\"#################################\")"
   ]
  },
  {
   "cell_type": "code",
   "execution_count": 88,
   "metadata": {},
   "outputs": [
    {
     "name": "stderr",
     "output_type": "stream",
     "text": [
      "/usr/local/lib/python3.7/site-packages/ipykernel_launcher.py:74: ComplexWarning: Casting complex values to real discards the imaginary part\n"
     ]
    }
   ],
   "source": [
    "## Applying CSP to 5F data\n",
    "filters = CSP(tData, iData, mData, rData, pData)"
   ]
  },
  {
   "cell_type": "code",
   "execution_count": 90,
   "metadata": {},
   "outputs": [],
   "source": [
    "filtersArray = np.asarray(filters)"
   ]
  },
  {
   "cell_type": "code",
   "execution_count": 91,
   "metadata": {},
   "outputs": [
    {
     "data": {
      "text/plain": [
       "(5, 21, 21)"
      ]
     },
     "execution_count": 91,
     "metadata": {},
     "output_type": "execute_result"
    }
   ],
   "source": [
    "filtersArray.shape"
   ]
  },
  {
   "cell_type": "code",
   "execution_count": 92,
   "metadata": {},
   "outputs": [],
   "source": [
    "tData_CSP = np.matmul(np.transpose(filtersArray[0]), tData)\n",
    "iData_CSP = np.matmul(np.transpose(filtersArray[1]), iData)\n",
    "mData_CSP = np.matmul(np.transpose(filtersArray[2]), mData)\n",
    "rData_CSP = np.matmul(np.transpose(filtersArray[3]), rData)\n",
    "pData_CSP = np.matmul(np.transpose(filtersArray[4]), pData)\n"
   ]
  },
  {
   "cell_type": "code",
   "execution_count": 93,
   "metadata": {},
   "outputs": [],
   "source": [
    "FingerData_CSP = np.vstack((tData_CSP, iData_CSP, mData_CSP, rData_CSP, pData_CSP))"
   ]
  },
  {
   "cell_type": "code",
   "execution_count": 94,
   "metadata": {},
   "outputs": [],
   "source": [
    "#Construct the target arrays and merge the data\n",
    "tTargets = np.tile(np.array([1,0,0,0,0]),(minLen,1))\n",
    "iTargets = np.tile(np.array([0,1,0,0,0]),(minLen,1))\n",
    "mTargets = np.tile(np.array([0,0,1,0,0]),(minLen,1))\n",
    "rTargets = np.tile(np.array([0,0,0,1,0]),(minLen,1))\n",
    "pTargets = np.tile(np.array([0,0,0,0,1]),(minLen,1))\n",
    "\n",
    "markerTargets = np.vstack((tTargets, iTargets, mTargets, rTargets, pTargets))"
   ]
  },
  {
   "cell_type": "code",
   "execution_count": 95,
   "metadata": {},
   "outputs": [
    {
     "name": "stdout",
     "output_type": "stream",
     "text": [
      "Epoch 1/30\n",
      "38/38 - 1s - loss: 0.5616 - accuracy: 0.3802\n",
      "Epoch 2/30\n",
      "38/38 - 1s - loss: 0.4145 - accuracy: 0.4760\n",
      "Epoch 3/30\n",
      "38/38 - 1s - loss: 0.3657 - accuracy: 0.5653\n",
      "Epoch 4/30\n",
      "38/38 - 1s - loss: 0.3386 - accuracy: 0.6149\n",
      "Epoch 5/30\n",
      "38/38 - 1s - loss: 0.2982 - accuracy: 0.6711\n",
      "Epoch 6/30\n",
      "38/38 - 1s - loss: 0.2606 - accuracy: 0.7190\n",
      "Epoch 7/30\n",
      "38/38 - 1s - loss: 0.2346 - accuracy: 0.7620\n",
      "Epoch 8/30\n",
      "38/38 - 1s - loss: 0.2123 - accuracy: 0.8033\n",
      "Epoch 9/30\n",
      "38/38 - 1s - loss: 0.1817 - accuracy: 0.8347\n",
      "Epoch 10/30\n",
      "38/38 - 1s - loss: 0.1716 - accuracy: 0.8529\n",
      "Epoch 11/30\n",
      "38/38 - 1s - loss: 0.1477 - accuracy: 0.8793\n",
      "Epoch 12/30\n",
      "38/38 - 1s - loss: 0.1368 - accuracy: 0.8793\n",
      "Epoch 13/30\n",
      "38/38 - 1s - loss: 0.1369 - accuracy: 0.8760\n",
      "Epoch 14/30\n",
      "38/38 - 1s - loss: 0.1272 - accuracy: 0.8893\n",
      "Epoch 15/30\n",
      "38/38 - 1s - loss: 0.1276 - accuracy: 0.8926\n",
      "Epoch 16/30\n",
      "38/38 - 1s - loss: 0.1238 - accuracy: 0.8926\n",
      "Epoch 17/30\n",
      "38/38 - 1s - loss: 0.1144 - accuracy: 0.8926\n",
      "Epoch 18/30\n",
      "38/38 - 1s - loss: 0.1097 - accuracy: 0.9025\n",
      "Epoch 19/30\n",
      "38/38 - 1s - loss: 0.1084 - accuracy: 0.9058\n",
      "Epoch 20/30\n",
      "38/38 - 1s - loss: 0.1002 - accuracy: 0.9124\n",
      "Epoch 21/30\n",
      "38/38 - 1s - loss: 0.0890 - accuracy: 0.9322\n",
      "Epoch 22/30\n",
      "38/38 - 1s - loss: 0.0737 - accuracy: 0.9455\n",
      "Epoch 23/30\n",
      "38/38 - 1s - loss: 0.0688 - accuracy: 0.9620\n",
      "Epoch 24/30\n",
      "38/38 - 1s - loss: 0.0544 - accuracy: 0.9653\n",
      "Epoch 25/30\n",
      "38/38 - 1s - loss: 0.0495 - accuracy: 0.9702\n",
      "Epoch 26/30\n",
      "38/38 - 2s - loss: 0.0521 - accuracy: 0.9653\n",
      "Epoch 27/30\n",
      "38/38 - 1s - loss: 0.0482 - accuracy: 0.9636\n",
      "Epoch 28/30\n",
      "38/38 - 1s - loss: 0.0484 - accuracy: 0.9702\n",
      "Epoch 29/30\n",
      "38/38 - 1s - loss: 0.0607 - accuracy: 0.9554\n",
      "Epoch 30/30\n",
      "38/38 - 1s - loss: 0.0442 - accuracy: 0.9802\n"
     ]
    }
   ],
   "source": [
    "## Shuffle the data\n",
    "FingerData_CSP, markerTargets_CSP = shuffle(FingerData_CSP, markerTargets, random_state=0)\n",
    "## Split into train and test sets\n",
    "FingerDataTrain_CSP, FingerDataTest_CSP, markerTargetsTrain_CSP, markerTargetsTest_CSP = train_test_split(FingerData_CSP, markerTargets_CSP, test_size=0.3, random_state=1)\n",
    "\n",
    "##Use the same model to train and test\n",
    "history_CSP = LSTM_EEG.fit(FingerDataTrain_CSP, markerTargetsTrain_CSP, epochs=30,verbose=2, batch_size=16)"
   ]
  },
  {
   "cell_type": "code",
   "execution_count": 96,
   "metadata": {},
   "outputs": [],
   "source": [
    "predictionsTest = LSTM_EEG.predict(FingerDataTest_CSP)"
   ]
  },
  {
   "cell_type": "code",
   "execution_count": 97,
   "metadata": {},
   "outputs": [],
   "source": [
    "predictionsTest[predictionsTest>0.5] = 1"
   ]
  },
  {
   "cell_type": "code",
   "execution_count": 98,
   "metadata": {},
   "outputs": [],
   "source": [
    "predictionsTest[predictionsTest <= 0.5] = 0"
   ]
  },
  {
   "cell_type": "code",
   "execution_count": 99,
   "metadata": {},
   "outputs": [],
   "source": [
    "comparisonArrayTest = predictionsTest == markerTargetsTest"
   ]
  },
  {
   "cell_type": "code",
   "execution_count": 100,
   "metadata": {},
   "outputs": [],
   "source": [
    "correctCountTest = 0\n",
    "for boolValues in comparisonArrayTest:\n",
    "    if(boolValues[0] & boolValues[1]):\n",
    "        correctCountTest += 1\n",
    "falseCountTest = FingerDataTest_CSP.shape[0] - correctCountTest\n",
    "\n",
    "predictionsTrain = LSTM_EEG.predict(FingerDataTrain_CSP)\n",
    "predictionsTrain[predictionsTrain>0.5] = 1;\n",
    "predictionsTrain[predictionsTrain<=0.5] = 0;\n",
    "comparisonArrayTrain = predictionsTrain == markerTargetsTrain;\n",
    "\n",
    "correctCountTrain = 0\n",
    "for boolValues in comparisonArrayTrain:\n",
    "    if(boolValues[0] & boolValues[1]):\n",
    "        correctCountTrain += 1\n",
    "falseCountTrain = FingerDataTrain_CSP.shape[0] - correctCountTrain"
   ]
  },
  {
   "cell_type": "code",
   "execution_count": 101,
   "metadata": {},
   "outputs": [
    {
     "name": "stdout",
     "output_type": "stream",
     "text": [
      "#################################\n",
      "### RESULTS AFTER APPLYING CSP ##\n",
      "#################################\n",
      "Training Performance:\n",
      "Correct MI Prediction: 595\n",
      "Incorrect MI Prediction: 10\n",
      "Percent Accuracy: 98.347%\n",
      "#################################\n",
      "#################################\n",
      "Testing Performance:\n",
      "Correct MI Prediction: 214\n",
      "Incorrect MI Prediction: 46\n",
      "Percent Accuracy: 82.308%\n",
      "#################################\n",
      "#################################\n"
     ]
    }
   ],
   "source": [
    "print(\"#################################\")\n",
    "print(\"### RESULTS AFTER APPLYING CSP ##\")\n",
    "print(\"#################################\")\n",
    "print(\"Training Performance:\\nCorrect MI Prediction: {}\\nIncorrect MI Prediction: {}\\nPercent Accuracy: {:.3f}%\".format(correctCountTrain, falseCountTrain, (correctCountTrain*100/FingerDataTrain_CSP.shape[0])))\n",
    "print(\"#################################\")\n",
    "print(\"#################################\")\n",
    "print(\"Testing Performance:\\nCorrect MI Prediction: {}\\nIncorrect MI Prediction: {}\\nPercent Accuracy: {:.3f}%\".format(correctCountTest, falseCountTest, (correctCountTest*100/FingerDataTest_CSP.shape[0])))\n",
    "print(\"#################################\")\n",
    "print(\"#################################\")"
   ]
  },
  {
   "cell_type": "code",
   "execution_count": null,
   "metadata": {},
   "outputs": [],
   "source": []
  }
 ],
 "metadata": {
  "kernelspec": {
   "display_name": "Python 3",
   "language": "python",
   "name": "python3"
  },
  "language_info": {
   "codemirror_mode": {
    "name": "ipython",
    "version": 3
   },
   "file_extension": ".py",
   "mimetype": "text/x-python",
   "name": "python",
   "nbconvert_exporter": "python",
   "pygments_lexer": "ipython3",
   "version": "3.7.7"
  }
 },
 "nbformat": 4,
 "nbformat_minor": 4
}
