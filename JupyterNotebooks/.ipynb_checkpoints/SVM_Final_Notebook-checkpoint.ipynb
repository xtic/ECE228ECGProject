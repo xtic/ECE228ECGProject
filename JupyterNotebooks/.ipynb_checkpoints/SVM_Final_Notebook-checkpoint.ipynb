{
 "cells": [
  {
   "cell_type": "code",
   "execution_count": 1,
   "metadata": {},
   "outputs": [
    {
     "name": "stdout",
     "output_type": "stream",
     "text": [
      "Available paradigms:\n",
      "Hand, Leg, Tongue (HALT)\n",
      "Classic - L/R Hand (CLA)\n",
      "Fingers (5F)\n",
      "Enter desired paradigm: 5F\n",
      "Enter the relative path to data: ../../Project/dataset\n",
      "Processing dataset 1 of 10\n",
      "Processing dataset 2 of 10\n",
      "Processing dataset 3 of 10\n",
      "Processing dataset 4 of 10\n",
      "Processing dataset 5 of 10\n",
      "Processing dataset 6 of 10\n",
      "Processing dataset 7 of 10\n",
      "Processing dataset 8 of 10\n",
      "Processing dataset 9 of 10\n",
      "Processing dataset 10 of 10\n"
     ]
    },
    {
     "name": "stderr",
     "output_type": "stream",
     "text": [
      "/home/zhl213/ECE228ECGProject-master/JupyterNotebooks/helperFunctions.py:83: ComplexWarning: Casting complex values to real discards the imaginary part\n",
      "  return SFa.astype(np.float32)\n"
     ]
    }
   ],
   "source": [
    "## Construct LSTM using Tensorflow + Keras\n",
    "# Import Libraries\n",
    "from tensorflow.keras.models import Sequential\n",
    "from tensorflow.keras.layers import Dense\n",
    "from tensorflow.keras.layers import LSTM\n",
    "from tensorflow.keras.layers import SimpleRNN\n",
    "from tensorflow.keras.layers import Dropout\n",
    "from sklearn.model_selection import train_test_split\n",
    "from tensorflow.keras import optimizers\n",
    "from sklearn.utils import shuffle\n",
    "from sklearn.svm import SVC\n",
    "from sklearn.svm import LinearSVC\n",
    "from sklearn.metrics import confusion_matrix\n",
    "from sklearn.metrics import accuracy_score\n",
    "import numpy as np\n",
    "\n",
    "#Import the helper functions\n",
    "#from helperFunctions import CSP\n",
    "from helperFunctions import GetCombinedData_HaLT as GetHALT\n",
    "from helperFunctions import GetCombinedData_CLA as GetCLA\n",
    "from helperFunctions import GetCombinedData_5F as Get5F\n",
    "from helperFunctions import GetCombinedData_FreeForm as GetFree\n",
    "\n",
    "print(\"Available paradigms:\\nHand, Leg, Tongue (HALT)\\nClassic - L/R Hand (CLA)\\nFingers (5F)\")\n",
    "paradigm = input('Enter desired paradigm: ');\n",
    "directoryPath = input('Enter the relative path to data: ');\n",
    "if(paradigm == 'HALT'):\n",
    "    Data, Targets, DataCSP, TargetsCSP = GetHALT(directoryPath, True);\n",
    "    numOutputs = 5;\n",
    "elif(paradigm == 'CLA'):\n",
    "    Data, Targets, DataCSP, TargetsCSP = GetCLA(directoryPath, True);\n",
    "    print(\"############\")\n",
    "    print(\"Processing FreeForm data for further testing\")\n",
    "    FreeData, FreeTargets, FreeDataCSP, FreeTargetsCSP = GetFree(directoryPath, True);\n",
    "    numOutputs = 2;\n",
    "elif(paradigm == '5F'):\n",
    "    Data, Targets, DataCSP, TargetsCSP = Get5F(directoryPath, True);\n",
    "    numOutputs = 5;\n",
    "else:\n",
    "    print(\"Error: Invalid paradigm {}\".format(paradigm));\n",
    "    quit()\n",
    "\n",
    "enableDropout = True;\n",
    "dropoutPercentage = 0.3;"
   ]
  },
  {
   "cell_type": "markdown",
   "metadata": {},
   "source": [
    "## Building  and training the model\n",
    "After processing the data, we build the LSTM model.\n",
    "We use 100 units in the first LSTM layer, 50 units in the second LSTM layer, and 2 or 5 dense units in the final layer (depending on the paradigm).\n",
    "\n",
    "We first train the network on non-CSP data."
   ]
  },
  {
   "cell_type": "code",
   "execution_count": 2,
   "metadata": {},
   "outputs": [],
   "source": [
    "#Run GetCombinedData to pull the datasets from multiple subjects into a single set\n",
    "#Data, Targets, DataCSP, TargetsCSP = GetHALT('../../../matDown/HaLT_Data', True);\n",
    "\n",
    "Targets=np.argmax(Targets, axis=1) #decode from one hot encoding to integers\n",
    "\n",
    "#reshape to be compatible with SVM\n",
    "Data = Data.reshape(Data.shape[0], -1) #reshape so that each row is an action. And contains all the channels and voltages\n",
    "Targets = Targets.reshape(-1) #reshape to vector\n",
    "\n",
    "## Shuffle the data\n",
    "Data, Targets = shuffle(Data, Targets, random_state=0)\n",
    "\n",
    "## Split into train and test sets\n",
    "DataTrain, DataTest, TargetsTrain, TargetsTest = train_test_split(Data, Targets, test_size=0.3, random_state=0)"
   ]
  },
  {
   "cell_type": "code",
   "execution_count": 3,
   "metadata": {
    "scrolled": true
   },
   "outputs": [
    {
     "name": "stderr",
     "output_type": "stream",
     "text": [
      "/opt/conda/envs/py37-tf2/lib/python3.7/site-packages/sklearn/svm/_base.py:947: ConvergenceWarning: Liblinear failed to converge, increase the number of iterations.\n",
      "  \"the number of iterations.\", ConvergenceWarning)\n"
     ]
    },
    {
     "data": {
      "text/plain": [
       "LinearSVC(C=1.0, class_weight=None, dual=True, fit_intercept=True,\n",
       "          intercept_scaling=1, loss='squared_hinge', max_iter=1000,\n",
       "          multi_class='ovr', penalty='l2', random_state=42, tol=0.0001,\n",
       "          verbose=0)"
      ]
     },
     "execution_count": 3,
     "metadata": {},
     "output_type": "execute_result"
    }
   ],
   "source": [
    "# SVM Classifier\n",
    "#clf = SVC(kernel = 'rbf', random_state = 42)\n",
    "clf = LinearSVC(random_state=42)\n",
    "clf.fit(DataTrain, TargetsTrain)"
   ]
  },
  {
   "cell_type": "markdown",
   "metadata": {},
   "source": [
    "## Evaluating the model\n",
    "Now, we use the model to predict the outputs for the test set, and compare them to the target outputs."
   ]
  },
  {
   "cell_type": "code",
   "execution_count": 4,
   "metadata": {},
   "outputs": [
    {
     "name": "stdout",
     "output_type": "stream",
     "text": [
      "#################################\n",
      "#################################\n",
      "Training Performance:\n",
      "Percent Accuracy: 99.933%\n",
      "#################################\n",
      "#################################\n",
      "Testing Performance:\n",
      "Percent Accuracy: 36.171%\n",
      "#################################\n",
      "#################################\n"
     ]
    }
   ],
   "source": [
    "trainPerc=clf.score(DataTrain, TargetsTrain)\n",
    "testPerc=clf.score(DataTest, TargetsTest)\n",
    "\n",
    "print(\"#################################\")\n",
    "print(\"#################################\")\n",
    "print(\"Training Performance:\\nPercent Accuracy: {:.3f}%\".format(trainPerc*100))\n",
    "print(\"#################################\")\n",
    "print(\"#################################\")\n",
    "print(\"Testing Performance:\\nPercent Accuracy: {:.3f}%\".format(testPerc*100))\n",
    "print(\"#################################\")\n",
    "print(\"#################################\")"
   ]
  },
  {
   "cell_type": "code",
   "execution_count": 5,
   "metadata": {},
   "outputs": [
    {
     "name": "stdout",
     "output_type": "stream",
     "text": [
      "[[234 145  53  49  45]\n",
      " [121 185 115  48  45]\n",
      " [ 74 109 149 107  82]\n",
      " [ 41  64  99 159 142]\n",
      " [ 30  50  83 125 195]]\n"
     ]
    }
   ],
   "source": [
    "cm = confusion_matrix(TargetsTest, clf.predict(DataTest))\n",
    "print(cm)"
   ]
  },
  {
   "cell_type": "markdown",
   "metadata": {},
   "source": [
    "## Using CSP Data\n",
    "Now, we train the model using the CSP data and then evaluate it"
   ]
  },
  {
   "cell_type": "code",
   "execution_count": 6,
   "metadata": {},
   "outputs": [
    {
     "name": "stderr",
     "output_type": "stream",
     "text": [
      "/opt/conda/envs/py37-tf2/lib/python3.7/site-packages/sklearn/svm/_base.py:947: ConvergenceWarning: Liblinear failed to converge, increase the number of iterations.\n",
      "  \"the number of iterations.\", ConvergenceWarning)\n"
     ]
    },
    {
     "name": "stdout",
     "output_type": "stream",
     "text": [
      "#################################\n",
      "#################################\n",
      "Training Performance:\n",
      "Percent Accuracy: 99.966%\n",
      "#################################\n",
      "#################################\n",
      "Testing Performance:\n",
      "Percent Accuracy: 74.107%\n",
      "#################################\n",
      "#################################\n"
     ]
    }
   ],
   "source": [
    "#Run GetCombinedData to pull the datasets from multiple subjects into a single set\n",
    "#Data, Targets, DataCSP, TargetsCSP = GetHALT('../../../matDown/HaLT_Data', True);\n",
    "\n",
    "TargetsCSP=np.argmax(TargetsCSP, axis=1) #decode from one hot encoding to integers\n",
    "\n",
    "#reshape to be compatible with SVM\n",
    "ReDataCSP = DataCSP.reshape(DataCSP.shape[0], -1) #reshape so that each row is an action. And contains all the channels and voltages\n",
    "ReTargetsCSP = TargetsCSP.reshape(-1) #reshape to vector\n",
    "\n",
    "## Shuffle the data\n",
    "ReDataCSP, ReTargetsCSP = shuffle(ReDataCSP, ReTargetsCSP, random_state=0)\n",
    "\n",
    "## Split into train and test sets\n",
    "DataTrain, DataTest, TargetsTrain, TargetsTest = train_test_split(ReDataCSP, ReTargetsCSP, test_size=0.3, random_state=0)\n",
    "\n",
    "# SVM Classifier\n",
    "clf.fit(DataTrain, TargetsTrain)\n",
    "\n",
    "trainPerc=clf.score(DataTrain, TargetsTrain)\n",
    "testPerc=clf.score(DataTest, TargetsTest)\n",
    "\n",
    "print(\"#################################\")\n",
    "print(\"#################################\")\n",
    "print(\"Training Performance:\\nPercent Accuracy: {:.3f}%\".format(trainPerc*100))\n",
    "print(\"#################################\")\n",
    "print(\"#################################\")\n",
    "print(\"Testing Performance:\\nPercent Accuracy: {:.3f}%\".format(testPerc*100))\n",
    "print(\"#################################\")\n",
    "print(\"#################################\")"
   ]
  },
  {
   "cell_type": "code",
   "execution_count": 7,
   "metadata": {},
   "outputs": [
    {
     "name": "stdout",
     "output_type": "stream",
     "text": [
      "[[377  48  45  27  29]\n",
      " [ 28 398  31  36  21]\n",
      " [ 33  30 372  48  38]\n",
      " [ 39  34  42 356  34]\n",
      " [ 18  27  26  26 386]]\n"
     ]
    }
   ],
   "source": [
    "cm = confusion_matrix(TargetsTest, clf.predict(DataTest))\n",
    "print(cm)"
   ]
  },
  {
   "cell_type": "markdown",
   "metadata": {},
   "source": [
    "## Optional testing of small FreeForm Datasets\n",
    "The FREEFORM datasets are a collection of datasets (3 of them) that are self-paced. There may not be enough data to train the network on just the FreeForm dataset. If you do train it on that dataset, you might have issues with overfitting. So, if the paradigm was CLA, which is similar to FreeForm, we can evaluate the model on FreeForm as well."
   ]
  },
  {
   "cell_type": "code",
   "execution_count": 8,
   "metadata": {},
   "outputs": [],
   "source": [
    "if(paradigm == 'CLA'):\n",
    "    ## Have to check and make sure that the FreeData is the same dimensions as the CLA data\n",
    "    lenFree = FreeDataCSP.shape[2];\n",
    "    if(lenFree < len(DataCSP)):\n",
    "        FreeDataCSP = FreeDataCSP[:, :, 0:DataCSP.shape[2]];\n",
    "        \n",
    "    FreeTargetsCSP=np.argmax(FreeTargetsCSP, axis=1) #decode from one hot encoding to integers\n",
    "    ReFreeDataCSP = FreeDataCSP.reshape(FreeDataCSP.shape[0], -1) #reshape so that each row is an action. And contains all the channels and voltages\n",
    "    ReFreeTargetsCSP = FreeTargetsCSP.reshape(-1) #reshape to vector\n",
    "    testPerc=clf.score(ReFreeDataCSP, ReFreeTargetsCSP)\n",
    "\n",
    "    print(\"#################################\")\n",
    "    print(\"#################################\")\n",
    "    print(\"FreeForm Performance:\\nPercent Accuracy: {:.3f}%\".format(testPerc*100))\n",
    "    print(\"#################################\")\n",
    "    print(\"#################################\")\n",
    "    \n",
    "    cm = confusion_matrix(ReFreeTargetsCSP, clf.predict(ReFreeDataCSP))\n",
    "    print(cm)"
   ]
  }
 ],
 "metadata": {
  "kernelspec": {
   "display_name": "Python 3",
   "language": "python",
   "name": "python3"
  },
  "language_info": {
   "codemirror_mode": {
    "name": "ipython",
    "version": 3
   },
   "file_extension": ".py",
   "mimetype": "text/x-python",
   "name": "python",
   "nbconvert_exporter": "python",
   "pygments_lexer": "ipython3",
   "version": "3.7.7"
  }
 },
 "nbformat": 4,
 "nbformat_minor": 4
}
