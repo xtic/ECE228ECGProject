{
 "cells": [
  {
   "cell_type": "code",
   "execution_count": 1,
   "metadata": {},
   "outputs": [],
   "source": [
    "## Two-Class EEG Classification using LSTM-based RNN\n",
    "## Here, we develop a baseline model for using an RNN to perform time-series prediction for one of two motor\n",
    "## imagery (MI) tasks. The data from the file CLA_SubjectJ-170508-3St-LRHand-Inter.mat is processed and we\n",
    "## only keep the data points that pertain to the left and right hand MI tasks. Each of the MI task data consists\n",
    "## of 170 time steps, with each time step consisting of 22 inputs. In other words, we pass the current sample for\n",
    "## of the 22 channels for each time step. At the end of the 170 time step, we send the output of the LSTM layers\n",
    "## to a Dense layer with two outputs. To ease the classification at the outer layer, we have converted the class\n",
    "## into a one-hot encoding of zeros and ones, and use the sigmoid unit at the output to match the output range.\n",
    "\n",
    "## Preliminary results:\n",
    "## Performance on training set is 100% classification rate after around 30 to 40 epochs.\n",
    "## Performance on test set is around 60% - 68%.\n",
    "\n",
    "## Potential problems:\n",
    "## The total amount of data is relatively low. Can it be possible to combine multiple subject's L/R Hand MI data\n",
    "## into one unified data set?\n",
    "## Can also possible increase the size of the data set by doing some data augmentations.\n",
    "## For example, injecting some noise into the existing EEG data to create more test data?\n",
    "\n",
    "## Followup/TODO:\n",
    "## Use pre-implemented common spatial patterns for feature extraction: avialable here: https://github.com/spolsley/common-spatial-patterns\n",
    "## Try using a relatively simple non-linear energy operator as a pre-emphasis step on the data to see if it helps generalize\n",
    "## the model."
   ]
  },
  {
   "cell_type": "code",
   "execution_count": 2,
   "metadata": {},
   "outputs": [
    {
     "name": "stdout",
     "output_type": "stream",
     "text": [
      "[[-18.   -3.6  -6.6 ...  -9.   -7.2  -2.4]\n",
      " [-19.2  -0.   -8.4 ...  -8.4 -11.4  -9. ]\n",
      " [-12.    1.8  -1.2 ...   2.4   3.6   5.4]\n",
      " ...\n",
      " [ -7.2   7.2   1.8 ...   1.8   4.2   4.2]\n",
      " [ -6.    5.4   3.  ...   5.4   4.2   3.6]\n",
      " [ -8.4   7.2   3.  ...   4.8   6.6   6. ]]\n",
      "Number of samples: 621892\n",
      "Dataset ID: 201705081338.32BEA9DD\n",
      "Channel names: [array(['Fp1'], dtype='<U3') array(['Fp2'], dtype='<U3')\n",
      " array(['F3'], dtype='<U2') array(['F4'], dtype='<U2')\n",
      " array(['C3'], dtype='<U2') array(['C4'], dtype='<U2')\n",
      " array(['P3'], dtype='<U2') array(['P4'], dtype='<U2')\n",
      " array(['O1'], dtype='<U2') array(['O2'], dtype='<U2')\n",
      " array(['A1'], dtype='<U2') array(['A2'], dtype='<U2')\n",
      " array(['F7'], dtype='<U2') array(['F8'], dtype='<U2')\n",
      " array(['T3'], dtype='<U2') array(['T4'], dtype='<U2')\n",
      " array(['T5'], dtype='<U2') array(['T6'], dtype='<U2')\n",
      " array(['Fz'], dtype='<U2') array(['Cz'], dtype='<U2')\n",
      " array(['Pz'], dtype='<U2')]\n"
     ]
    }
   ],
   "source": [
    "## This file is used to split data into series of arrays and their corresponding MI task.\n",
    "import scipy.io as sio\n",
    "import matplotlib.pyplot as plt\n",
    "import numpy as np\n",
    "import scipy.linalg as la\n",
    "file = sio.loadmat('dataset/CLA/CLA-SubjectJ-170508-3St-LRHand-Inter.mat') #replace with .mat file name\n",
    "header=file['__header__']\n",
    "version=file['__version__']\n",
    "glob=file['__globals__']\n",
    "ans=file['ans']\n",
    "\n",
    "\n",
    "x=file['x']\n",
    "o=file['o'][0][0]\n",
    "data=o['data']\n",
    "data = np.transpose(data)\n",
    "data = data[0:21,:]\n",
    "print(data)\n",
    "nS=o['nS'][0][0]\n",
    "#values of structure seem to be 2D numpy arrays, if originally a scalar in Matlab.\n",
    "#use [0][0] to get scalar.\n",
    "print(\"Number of samples: {numSamples}\".format(numSamples=nS))\n",
    "test=o['id'][0] #id value became a 1D array of size 1 for some reason. use [0] to get value\n",
    "print(\"Dataset ID: {id}\".format(id=test))\n",
    "chnames=o['chnames'][:,0] #[:,0] converts from 2D array back to 1D array\n",
    "print(\"Channel names: {channelNames}\".format(channelNames=chnames))\n",
    "markers = o['marker']\n",
    "## The markers are all still individual arrays of size 1x1, so we convert them to an array with single values\n",
    "markersArray = []\n",
    "for marker in markers:\n",
    "    markersArray.append(marker[0])\n",
    "markersArray = np.asarray(markersArray)\n",
    "#For this dataset, the markers are 0, 1, or 2.\n",
    "# 1 - Left Hand MI, 2 - Right Hand MI, 3 - Passive State, 0 - Rest (???)"
   ]
  },
  {
   "cell_type": "code",
   "execution_count": 3,
   "metadata": {},
   "outputs": [],
   "source": [
    "## CSP File from: https://github.com/spolsley/common-spatial-patterns\n",
    "# CSP takes any number of arguments, but each argument must be a collection of trials associated with a task\n",
    "# That is, for N tasks, N arrays are passed to CSP each with dimensionality (# of trials of task N) x (feature vector)\n",
    "# Trials may be of any dimension, provided that each trial for each task has the same dimensionality,\n",
    "# otherwise there can be no spatial filtering since the trials cannot be compared\n",
    "def CSP(*tasks):\n",
    "\tif len(tasks) < 2:\n",
    "\t\tprint(\"Must have at least 2 tasks for filtering.\")\n",
    "\t\treturn (None,) * len(tasks)\n",
    "\telse:\n",
    "\t\tfilters = ()\n",
    "\t\t# CSP algorithm\n",
    "\t\t# For each task x, find the mean variances Rx and not_Rx, which will be used to compute spatial filter SFx\n",
    "\t\titerator = range(0,len(tasks))\n",
    "\t\tfor x in iterator:\n",
    "\t\t\t# Find Rx\n",
    "\t\t\tRx = covarianceMatrix(tasks[x][0])\n",
    "\t\t\tfor t in range(1,len(tasks[x])):\n",
    "\t\t\t\tRx += covarianceMatrix(tasks[x][t])\n",
    "\t\t\tRx = Rx / len(tasks[x])\n",
    "\n",
    "\t\t\t# Find not_Rx\n",
    "\t\t\tcount = 0\n",
    "\t\t\tnot_Rx = Rx * 0\n",
    "\t\t\tfor not_x in [element for element in iterator if element != x]:\n",
    "\t\t\t\tfor t in range(0,len(tasks[not_x])):\n",
    "\t\t\t\t\tnot_Rx += covarianceMatrix(tasks[not_x][t])\n",
    "\t\t\t\t\tcount += 1\n",
    "\t\t\tnot_Rx = not_Rx / count\n",
    "\n",
    "\t\t\t# Find the spatial filter SFx\n",
    "\t\t\tSFx = spatialFilter(Rx,not_Rx)\n",
    "\t\t\tfilters += (SFx,)\n",
    "\n",
    "\t\t\t# Special case: only two tasks, no need to compute any more mean variances\n",
    "\t\t\tif len(tasks) == 2:\n",
    "\t\t\t\tfilters += (spatialFilter(not_Rx,Rx),)\n",
    "\t\t\t\tbreak\n",
    "\t\treturn filters\n",
    "\n",
    "# covarianceMatrix takes a matrix A and returns the covariance matrix, scaled by the variance\n",
    "def covarianceMatrix(A):\n",
    "\tCa = np.dot(A,np.transpose(A))/np.trace(np.dot(A,np.transpose(A)))\n",
    "\treturn Ca\n",
    "\n",
    "# spatialFilter returns the spatial filter SFa for mean covariance matrices Ra and Rb\n",
    "def spatialFilter(Ra,Rb):\n",
    "\tR = Ra + Rb\n",
    "\tE,U = la.eig(R)\n",
    "\n",
    "\t# CSP requires the eigenvalues E and eigenvector U be sorted in descending order\n",
    "\tord = np.argsort(E)\n",
    "\tord = ord[::-1] # argsort gives ascending order, flip to get descending\n",
    "\tE = E[ord]\n",
    "\tU = U[:,ord]\n",
    "\n",
    "\t# Find the whitening transformation matrix\n",
    "\tP = np.dot(np.sqrt(la.inv(np.diag(E))),np.transpose(U))\n",
    "\n",
    "\t# The mean covariance matrices may now be transformed\n",
    "\tSa = np.dot(P,np.dot(Ra,np.transpose(P)))\n",
    "\tSb = np.dot(P,np.dot(Rb,np.transpose(P)))\n",
    "\n",
    "\t# Find and sort the generalized eigenvalues and eigenvector\n",
    "\tE1,U1 = la.eig(Sa,Sb)\n",
    "\tord1 = np.argsort(E1)\n",
    "\tord1 = ord1[::-1]\n",
    "\tE1 = E1[ord1]\n",
    "\tU1 = U1[:,ord1]\n",
    "\n",
    "\t# The projection matrix (the spatial filter) may now be obtained\n",
    "\tSFa = np.dot(np.transpose(U1),P)\n",
    "\treturn SFa.astype(np.float32)"
   ]
  },
  {
   "cell_type": "code",
   "execution_count": 4,
   "metadata": {},
   "outputs": [
    {
     "name": "stdout",
     "output_type": "stream",
     "text": [
      "Number of index changes: 1800\n",
      "Number of arrays in data split: 1800\n",
      "Number of marker targets: 1800\n"
     ]
    }
   ],
   "source": [
    "## Find the starting indeces where the marker changes\n",
    "changeIdxs = np.where(np.transpose(markersArray)[:-1] != np.transpose(markersArray)[1:])[0]\n",
    "print(\"Number of index changes: {idxChanges}\".format(idxChanges=changeIdxs.shape[0]))\n",
    "## Split the data so that it has its matching marker\n",
    "dataSplit = np.array_split(data, changeIdxs[:-1], axis=1)\n",
    "splitCount = 0\n",
    "for splitData in dataSplit:\n",
    "    splitCount += 1\n",
    "print(\"Number of arrays in data split: {num}\".format(num=splitCount))\n",
    "## Retrieve the marker values for each of the change indeces (changeIdxs)\n",
    "markerTargets = markersArray[changeIdxs];\n",
    "print(\"Number of marker targets: {numTargets}\".format(numTargets=markerTargets.shape[0]))"
   ]
  },
  {
   "cell_type": "code",
   "execution_count": 5,
   "metadata": {},
   "outputs": [],
   "source": [
    "## To Apply CSP, we first only get the indeces for MI tasks 1 and 2 (left and right hand, respectively.)\n",
    "LeftIdxs = np.where(markerTargets == 1)\n",
    "RightIdxs = np.where(markerTargets == 2)\n",
    "NoneIdxs = np.where(markerTargets == 3)\n",
    "numLeftIdx = LeftIdxs[0].shape"
   ]
  },
  {
   "cell_type": "code",
   "execution_count": 6,
   "metadata": {},
   "outputs": [
    {
     "data": {
      "text/plain": [
       "(288, 170, 21)"
      ]
     },
     "execution_count": 6,
     "metadata": {},
     "output_type": "execute_result"
    }
   ],
   "source": [
    "leftData = [];\n",
    "for leftIndex in LeftIdxs[0]:\n",
    "    #print(leftIndex)\n",
    "    #print(\"Dimensions of index: {ind}\".format(ind=dataSplit[leftIndex].shape))\n",
    "    if(dataSplit[leftIndex].shape[1] != 170):\n",
    "        continue\n",
    "    else:\n",
    "        leftData.append(np.transpose(dataSplit[leftIndex]))\n",
    "leftData = np.asarray(leftData)\n",
    "leftData.shape"
   ]
  },
  {
   "cell_type": "code",
   "execution_count": 7,
   "metadata": {},
   "outputs": [
    {
     "data": {
      "text/plain": [
       "(327, 170, 21)"
      ]
     },
     "execution_count": 7,
     "metadata": {},
     "output_type": "execute_result"
    }
   ],
   "source": [
    "rightData = [];\n",
    "for rightIndex in RightIdxs[0]:\n",
    "    #print(leftIndex)\n",
    "    #print(\"Dimensions of index: {ind}\".format(ind=dataSplit[leftIndex].shape))\n",
    "    if(dataSplit[rightIndex].shape[1] != 170):\n",
    "        continue\n",
    "    else:\n",
    "        rightData.append(np.transpose(dataSplit[rightIndex]))\n",
    "rightData = np.asarray(rightData)\n",
    "rightData.shape"
   ]
  },
  {
   "cell_type": "code",
   "execution_count": 8,
   "metadata": {},
   "outputs": [
    {
     "data": {
      "text/plain": [
       "(284, 170, 21)"
      ]
     },
     "execution_count": 8,
     "metadata": {},
     "output_type": "execute_result"
    }
   ],
   "source": [
    "noneData=[]\n",
    "for noneIndex in NoneIdxs[0]:\n",
    "    if(dataSplit[noneIndex].shape[1] != 170):\n",
    "        continue\n",
    "    else:\n",
    "        noneData.append(np.transpose(dataSplit[noneIndex]))\n",
    "noneData=np.asarray(noneData)\n",
    "noneData.shape"
   ]
  },
  {
   "cell_type": "code",
   "execution_count": 9,
   "metadata": {},
   "outputs": [],
   "source": [
    "## Only keep the top 288 samples, so that left and right data are equal #why start at index 1?\n",
    "keep=284;\n",
    "rightDataSub = rightData[1:(keep+1)]\n",
    "leftDataSub = leftData[1:(keep+1)]"
   ]
  },
  {
   "cell_type": "code",
   "execution_count": 10,
   "metadata": {},
   "outputs": [
    {
     "name": "stdout",
     "output_type": "stream",
     "text": [
      "lrData Shape: (852, 170, 21)\tmarkerTargets Shape: (852, 3)\n"
     ]
    }
   ],
   "source": [
    "#Construct the target array and merge the data\n",
    "leftTargets = np.tile(np.array([1,0, 0]),(keep,1))\n",
    "rightTargets = np.tile(np.array([0, 0,1]), (keep,1))\n",
    "noneTargets = np.tile(np.array([0, 1, 0]), (keep,1))\n",
    "markerTargets = np.vstack((leftTargets, noneTargets, rightTargets))\n",
    "lrData = np.vstack((leftDataSub, noneData, rightDataSub))\n",
    "\n",
    "#Sanity Check\n",
    "print(\"lrData Shape: {arg1}\\tmarkerTargets Shape: {arg2}\".format(arg1=lrData.shape, arg2=markerTargets.shape))"
   ]
  },
  {
   "cell_type": "code",
   "execution_count": 11,
   "metadata": {},
   "outputs": [],
   "source": [
    "## Construct LSTM using Tensorflow + Keras\n",
    "# Import Libraries\n",
    "from tensorflow.keras.models import Sequential\n",
    "from tensorflow.keras.layers import Dense\n",
    "from tensorflow.keras.layers import LSTM\n",
    "from tensorflow.keras.layers import SimpleRNN\n",
    "from tensorflow.keras.layers import Dropout\n",
    "from sklearn.model_selection import train_test_split\n",
    "from sklearn.utils import shuffle\n",
    "from tensorflow.keras import optimizers"
   ]
  },
  {
   "cell_type": "code",
   "execution_count": 12,
   "metadata": {},
   "outputs": [],
   "source": [
    "## Shuffle the data\n",
    "lrData, markerTargets = shuffle(lrData, markerTargets, random_state=0)"
   ]
  },
  {
   "cell_type": "code",
   "execution_count": 13,
   "metadata": {},
   "outputs": [
    {
     "data": {
      "text/plain": [
       "(596, 3)"
      ]
     },
     "execution_count": 13,
     "metadata": {},
     "output_type": "execute_result"
    }
   ],
   "source": [
    "## Split into train and test sets\n",
    "lrDataTrain, lrDataTest, markerTargetsTrain, markerTargetsTest = train_test_split(lrData, markerTargets, test_size=0.3, random_state=1)\n",
    "markerTargetsTrain.shape"
   ]
  },
  {
   "cell_type": "code",
   "execution_count": 14,
   "metadata": {},
   "outputs": [],
   "source": [
    "## Reshape the data for time-series processing\n",
    "## Syntax np.reshape((numExamples, numTimeSteps, numInputs/numFeatures))\n",
    "lrDataTrainRe = lrDataTrain.reshape((lrDataTrain.shape[0], lrDataTrain.shape[1], lrDataTrain.shape[2]))\n",
    "lrDataTestRe = lrDataTest.reshape((lrDataTest.shape[0], lrDataTest.shape[1], lrDataTest.shape[2]))"
   ]
  },
  {
   "cell_type": "code",
   "execution_count": 16,
   "metadata": {},
   "outputs": [],
   "source": [
    "## Construct the model\n",
    "LSTM_EEG = Sequential()\n",
    "LSTM_EEG.add(LSTM((100),batch_input_shape=(None,lrDataTrainRe.shape[1], lrDataTrainRe.shape[2]), return_sequences=True))\n",
    "LSTM_EEG.add(LSTM((50), return_sequences=False))\n",
    "LSTM_EEG.add(Dense((3),activation='sigmoid'))"
   ]
  },
  {
   "cell_type": "code",
   "execution_count": 17,
   "metadata": {
    "scrolled": true
   },
   "outputs": [
    {
     "name": "stdout",
     "output_type": "stream",
     "text": [
      "Model: \"sequential_1\"\n",
      "_________________________________________________________________\n",
      "Layer (type)                 Output Shape              Param #   \n",
      "=================================================================\n",
      "lstm_2 (LSTM)                (None, 170, 100)          48800     \n",
      "_________________________________________________________________\n",
      "lstm_3 (LSTM)                (None, 50)                30200     \n",
      "_________________________________________________________________\n",
      "dense_1 (Dense)              (None, 3)                 153       \n",
      "=================================================================\n",
      "Total params: 79,153\n",
      "Trainable params: 79,153\n",
      "Non-trainable params: 0\n",
      "_________________________________________________________________\n"
     ]
    }
   ],
   "source": [
    "LSTM_EEG.summary()\n",
    "sgd = optimizers.SGD(lr=0.05, decay=1e-6, momentum=0.9, nesterov=True)\n",
    "LSTM_EEG.compile(loss='categorical_crossentropy', optimizer=sgd, metrics=['accuracy'])"
   ]
  },
  {
   "cell_type": "code",
   "execution_count": 18,
   "metadata": {},
   "outputs": [
    {
     "name": "stdout",
     "output_type": "stream",
     "text": [
      "Train on 417 samples, validate on 179 samples\n",
      "Epoch 1/100\n",
      "417/417 - 5s - loss: 1.0487 - accuracy: 0.4101 - val_loss: 0.9873 - val_accuracy: 0.5251\n",
      "Epoch 2/100\n",
      "417/417 - 1s - loss: 0.8939 - accuracy: 0.5899 - val_loss: 0.8756 - val_accuracy: 0.5754\n",
      "Epoch 3/100\n",
      "417/417 - 1s - loss: 0.7985 - accuracy: 0.6571 - val_loss: 1.3663 - val_accuracy: 0.4358\n",
      "Epoch 4/100\n",
      "417/417 - 1s - loss: 0.9371 - accuracy: 0.5683 - val_loss: 0.9378 - val_accuracy: 0.5642\n",
      "Epoch 5/100\n",
      "417/417 - 1s - loss: 0.7118 - accuracy: 0.6811 - val_loss: 0.9422 - val_accuracy: 0.5698\n",
      "Epoch 6/100\n",
      "417/417 - 1s - loss: 0.6530 - accuracy: 0.6978 - val_loss: 1.3802 - val_accuracy: 0.4078\n",
      "Epoch 7/100\n",
      "417/417 - 1s - loss: 0.9393 - accuracy: 0.5492 - val_loss: 0.9592 - val_accuracy: 0.6034\n",
      "Epoch 8/100\n",
      "417/417 - 1s - loss: 0.7873 - accuracy: 0.6523 - val_loss: 0.9875 - val_accuracy: 0.5307\n",
      "Epoch 9/100\n",
      "417/417 - 0s - loss: 0.6489 - accuracy: 0.7242 - val_loss: 1.0611 - val_accuracy: 0.5084\n",
      "Epoch 10/100\n",
      "417/417 - 1s - loss: 0.6303 - accuracy: 0.7170 - val_loss: 0.9595 - val_accuracy: 0.5754\n",
      "Epoch 11/100\n",
      "417/417 - 1s - loss: 0.5507 - accuracy: 0.7626 - val_loss: 1.7358 - val_accuracy: 0.4637\n",
      "Epoch 12/100\n",
      "417/417 - 1s - loss: 0.7979 - accuracy: 0.6499 - val_loss: 1.4195 - val_accuracy: 0.4749\n",
      "Epoch 13/100\n",
      "417/417 - 1s - loss: 0.8214 - accuracy: 0.6307 - val_loss: 1.0866 - val_accuracy: 0.4804\n",
      "Epoch 14/100\n",
      "417/417 - 1s - loss: 0.5716 - accuracy: 0.7650 - val_loss: 1.1585 - val_accuracy: 0.5363\n",
      "Epoch 15/100\n",
      "417/417 - 0s - loss: 0.4682 - accuracy: 0.7890 - val_loss: 1.4564 - val_accuracy: 0.4581\n",
      "Epoch 16/100\n",
      "417/417 - 1s - loss: 0.6356 - accuracy: 0.7362 - val_loss: 1.1175 - val_accuracy: 0.5531\n",
      "Epoch 17/100\n",
      "417/417 - 1s - loss: 0.5367 - accuracy: 0.7866 - val_loss: 1.1666 - val_accuracy: 0.4972\n",
      "Epoch 18/100\n",
      "417/417 - 1s - loss: 0.4288 - accuracy: 0.8201 - val_loss: 1.1414 - val_accuracy: 0.5531\n",
      "Epoch 19/100\n",
      "417/417 - 1s - loss: 0.3015 - accuracy: 0.9089 - val_loss: 1.4061 - val_accuracy: 0.5531\n",
      "Epoch 20/100\n",
      "417/417 - 1s - loss: 0.3719 - accuracy: 0.8513 - val_loss: 1.3447 - val_accuracy: 0.5754\n",
      "Epoch 21/100\n",
      "417/417 - 1s - loss: 0.2820 - accuracy: 0.9041 - val_loss: 1.4277 - val_accuracy: 0.5363\n",
      "Epoch 22/100\n",
      "417/417 - 1s - loss: 0.5383 - accuracy: 0.8010 - val_loss: 1.2765 - val_accuracy: 0.5475\n",
      "Epoch 23/100\n",
      "417/417 - 1s - loss: 0.3477 - accuracy: 0.8801 - val_loss: 1.4295 - val_accuracy: 0.5587\n",
      "Epoch 24/100\n",
      "417/417 - 1s - loss: 0.2725 - accuracy: 0.9065 - val_loss: 1.3191 - val_accuracy: 0.5810\n",
      "Epoch 25/100\n",
      "417/417 - 1s - loss: 0.2787 - accuracy: 0.9089 - val_loss: 1.3166 - val_accuracy: 0.5363\n",
      "Epoch 26/100\n",
      "417/417 - 1s - loss: 0.1872 - accuracy: 0.9424 - val_loss: 1.4356 - val_accuracy: 0.5196\n",
      "Epoch 27/100\n",
      "417/417 - 0s - loss: 0.1293 - accuracy: 0.9712 - val_loss: 1.4434 - val_accuracy: 0.5587\n",
      "Epoch 28/100\n",
      "417/417 - 1s - loss: 0.0736 - accuracy: 0.9808 - val_loss: 1.7351 - val_accuracy: 0.5587\n",
      "Epoch 29/100\n",
      "417/417 - 0s - loss: 0.0962 - accuracy: 0.9616 - val_loss: 1.4876 - val_accuracy: 0.6201\n",
      "Epoch 30/100\n",
      "417/417 - 1s - loss: 0.1273 - accuracy: 0.9472 - val_loss: 1.7066 - val_accuracy: 0.5140\n",
      "Epoch 31/100\n",
      "417/417 - 1s - loss: 0.1675 - accuracy: 0.9496 - val_loss: 1.5303 - val_accuracy: 0.5978\n",
      "Epoch 32/100\n",
      "417/417 - 1s - loss: 0.1249 - accuracy: 0.9592 - val_loss: 1.4807 - val_accuracy: 0.5363\n",
      "Epoch 33/100\n",
      "417/417 - 1s - loss: 0.1143 - accuracy: 0.9616 - val_loss: 1.6751 - val_accuracy: 0.5307\n",
      "Epoch 34/100\n",
      "417/417 - 1s - loss: 0.2998 - accuracy: 0.8993 - val_loss: 1.4934 - val_accuracy: 0.5196\n",
      "Epoch 35/100\n",
      "417/417 - 1s - loss: 0.2128 - accuracy: 0.9376 - val_loss: 1.5541 - val_accuracy: 0.5307\n",
      "Epoch 36/100\n",
      "417/417 - 1s - loss: 0.2284 - accuracy: 0.9233 - val_loss: 1.4403 - val_accuracy: 0.5363\n",
      "Epoch 37/100\n",
      "417/417 - 1s - loss: 0.1162 - accuracy: 0.9592 - val_loss: 1.4285 - val_accuracy: 0.5251\n",
      "Epoch 38/100\n",
      "417/417 - 1s - loss: 0.0697 - accuracy: 0.9856 - val_loss: 1.6570 - val_accuracy: 0.5475\n",
      "Epoch 39/100\n",
      "417/417 - 1s - loss: 0.0362 - accuracy: 0.9952 - val_loss: 1.9422 - val_accuracy: 0.5363\n",
      "Epoch 40/100\n",
      "417/417 - 1s - loss: 0.0605 - accuracy: 0.9712 - val_loss: 1.8666 - val_accuracy: 0.5810\n",
      "Epoch 41/100\n",
      "417/417 - 1s - loss: 0.0209 - accuracy: 0.9952 - val_loss: 1.9923 - val_accuracy: 0.5475\n",
      "Epoch 42/100\n",
      "417/417 - 1s - loss: 0.0234 - accuracy: 0.9904 - val_loss: 2.2024 - val_accuracy: 0.5140\n",
      "Epoch 43/100\n",
      "417/417 - 0s - loss: 0.0231 - accuracy: 0.9952 - val_loss: 2.3407 - val_accuracy: 0.5140\n",
      "Epoch 44/100\n",
      "417/417 - 1s - loss: 0.0670 - accuracy: 0.9712 - val_loss: 2.7026 - val_accuracy: 0.4860\n",
      "Epoch 45/100\n",
      "417/417 - 1s - loss: 0.4854 - accuracy: 0.8249 - val_loss: 1.7270 - val_accuracy: 0.4749\n",
      "Epoch 46/100\n",
      "417/417 - 1s - loss: 0.2569 - accuracy: 0.9041 - val_loss: 1.7589 - val_accuracy: 0.4972\n",
      "Epoch 47/100\n",
      "417/417 - 1s - loss: 0.1187 - accuracy: 0.9568 - val_loss: 1.8568 - val_accuracy: 0.5307\n",
      "Epoch 48/100\n",
      "417/417 - 1s - loss: 0.0582 - accuracy: 0.9880 - val_loss: 2.0749 - val_accuracy: 0.4972\n",
      "Epoch 49/100\n",
      "417/417 - 0s - loss: 0.0465 - accuracy: 0.9904 - val_loss: 2.1187 - val_accuracy: 0.5028\n",
      "Epoch 50/100\n",
      "417/417 - 1s - loss: 0.0236 - accuracy: 0.9952 - val_loss: 2.1468 - val_accuracy: 0.4972\n",
      "Epoch 51/100\n",
      "417/417 - 1s - loss: 0.0310 - accuracy: 0.9928 - val_loss: 2.2289 - val_accuracy: 0.4804\n",
      "Epoch 52/100\n",
      "417/417 - 0s - loss: 0.0136 - accuracy: 1.0000 - val_loss: 2.1993 - val_accuracy: 0.4972\n",
      "Epoch 53/100\n",
      "417/417 - 1s - loss: 0.0063 - accuracy: 1.0000 - val_loss: 2.2552 - val_accuracy: 0.4972\n",
      "Epoch 54/100\n",
      "417/417 - 1s - loss: 0.0044 - accuracy: 1.0000 - val_loss: 2.3233 - val_accuracy: 0.4972\n",
      "Epoch 55/100\n",
      "417/417 - 1s - loss: 0.0036 - accuracy: 1.0000 - val_loss: 2.3457 - val_accuracy: 0.4972\n",
      "Epoch 56/100\n",
      "417/417 - 1s - loss: 0.0031 - accuracy: 1.0000 - val_loss: 2.3659 - val_accuracy: 0.5084\n",
      "Epoch 57/100\n",
      "417/417 - 1s - loss: 0.0027 - accuracy: 1.0000 - val_loss: 2.3828 - val_accuracy: 0.5084\n",
      "Epoch 58/100\n",
      "417/417 - 1s - loss: 0.0024 - accuracy: 1.0000 - val_loss: 2.4004 - val_accuracy: 0.5028\n",
      "Epoch 59/100\n",
      "417/417 - 1s - loss: 0.0022 - accuracy: 1.0000 - val_loss: 2.4197 - val_accuracy: 0.5084\n",
      "Epoch 60/100\n",
      "417/417 - 1s - loss: 0.0020 - accuracy: 1.0000 - val_loss: 2.4374 - val_accuracy: 0.5084\n",
      "Epoch 61/100\n",
      "417/417 - 1s - loss: 0.0019 - accuracy: 1.0000 - val_loss: 2.4558 - val_accuracy: 0.5084\n",
      "Epoch 62/100\n",
      "417/417 - 1s - loss: 0.0017 - accuracy: 1.0000 - val_loss: 2.4707 - val_accuracy: 0.5140\n",
      "Epoch 63/100\n",
      "417/417 - 1s - loss: 0.0016 - accuracy: 1.0000 - val_loss: 2.4875 - val_accuracy: 0.5196\n",
      "Epoch 64/100\n",
      "417/417 - 1s - loss: 0.0015 - accuracy: 1.0000 - val_loss: 2.5012 - val_accuracy: 0.5196\n",
      "Epoch 65/100\n",
      "417/417 - 1s - loss: 0.0014 - accuracy: 1.0000 - val_loss: 2.5150 - val_accuracy: 0.5196\n",
      "Epoch 66/100\n",
      "417/417 - 1s - loss: 0.0013 - accuracy: 1.0000 - val_loss: 2.5297 - val_accuracy: 0.5196\n",
      "Epoch 67/100\n",
      "417/417 - 0s - loss: 0.0013 - accuracy: 1.0000 - val_loss: 2.5387 - val_accuracy: 0.5196\n",
      "Epoch 68/100\n",
      "417/417 - 1s - loss: 0.0012 - accuracy: 1.0000 - val_loss: 2.5498 - val_accuracy: 0.5196\n",
      "Epoch 69/100\n",
      "417/417 - 1s - loss: 0.0011 - accuracy: 1.0000 - val_loss: 2.5609 - val_accuracy: 0.5251\n",
      "Epoch 70/100\n",
      "417/417 - 1s - loss: 0.0011 - accuracy: 1.0000 - val_loss: 2.5737 - val_accuracy: 0.5251\n",
      "Epoch 71/100\n",
      "417/417 - 1s - loss: 0.0010 - accuracy: 1.0000 - val_loss: 2.5871 - val_accuracy: 0.5307\n",
      "Epoch 72/100\n",
      "417/417 - 1s - loss: 9.9479e-04 - accuracy: 1.0000 - val_loss: 2.5968 - val_accuracy: 0.5307\n",
      "Epoch 73/100\n",
      "417/417 - 1s - loss: 9.5471e-04 - accuracy: 1.0000 - val_loss: 2.6069 - val_accuracy: 0.5363\n",
      "Epoch 74/100\n",
      "417/417 - 1s - loss: 9.1907e-04 - accuracy: 1.0000 - val_loss: 2.6158 - val_accuracy: 0.5363\n",
      "Epoch 75/100\n",
      "417/417 - 1s - loss: 8.8593e-04 - accuracy: 1.0000 - val_loss: 2.6250 - val_accuracy: 0.5363\n",
      "Epoch 76/100\n",
      "417/417 - 1s - loss: 8.5514e-04 - accuracy: 1.0000 - val_loss: 2.6353 - val_accuracy: 0.5363\n",
      "Epoch 77/100\n",
      "417/417 - 1s - loss: 8.2634e-04 - accuracy: 1.0000 - val_loss: 2.6437 - val_accuracy: 0.5363\n",
      "Epoch 78/100\n",
      "417/417 - 1s - loss: 7.9900e-04 - accuracy: 1.0000 - val_loss: 2.6517 - val_accuracy: 0.5307\n",
      "Epoch 79/100\n",
      "417/417 - 1s - loss: 7.7344e-04 - accuracy: 1.0000 - val_loss: 2.6603 - val_accuracy: 0.5307\n",
      "Epoch 80/100\n",
      "417/417 - 1s - loss: 7.4903e-04 - accuracy: 1.0000 - val_loss: 2.6677 - val_accuracy: 0.5307\n",
      "Epoch 81/100\n",
      "417/417 - 1s - loss: 7.2693e-04 - accuracy: 1.0000 - val_loss: 2.6758 - val_accuracy: 0.5307\n",
      "Epoch 82/100\n",
      "417/417 - 0s - loss: 7.0496e-04 - accuracy: 1.0000 - val_loss: 2.6831 - val_accuracy: 0.5307\n",
      "Epoch 83/100\n",
      "417/417 - 1s - loss: 6.8498e-04 - accuracy: 1.0000 - val_loss: 2.6909 - val_accuracy: 0.5307\n",
      "Epoch 84/100\n",
      "417/417 - 1s - loss: 6.6572e-04 - accuracy: 1.0000 - val_loss: 2.6985 - val_accuracy: 0.5307\n",
      "Epoch 85/100\n",
      "417/417 - 1s - loss: 6.4760e-04 - accuracy: 1.0000 - val_loss: 2.7051 - val_accuracy: 0.5307\n",
      "Epoch 86/100\n",
      "417/417 - 1s - loss: 6.3010e-04 - accuracy: 1.0000 - val_loss: 2.7122 - val_accuracy: 0.5307\n",
      "Epoch 87/100\n",
      "417/417 - 1s - loss: 6.1366e-04 - accuracy: 1.0000 - val_loss: 2.7199 - val_accuracy: 0.5307\n",
      "Epoch 88/100\n",
      "417/417 - 1s - loss: 5.9759e-04 - accuracy: 1.0000 - val_loss: 2.7263 - val_accuracy: 0.5307\n",
      "Epoch 89/100\n",
      "417/417 - 1s - loss: 5.8356e-04 - accuracy: 1.0000 - val_loss: 2.7320 - val_accuracy: 0.5363\n",
      "Epoch 90/100\n",
      "417/417 - 1s - loss: 5.6925e-04 - accuracy: 1.0000 - val_loss: 2.7383 - val_accuracy: 0.5363\n",
      "Epoch 91/100\n",
      "417/417 - 1s - loss: 5.5629e-04 - accuracy: 1.0000 - val_loss: 2.7451 - val_accuracy: 0.5363\n",
      "Epoch 92/100\n",
      "417/417 - 1s - loss: 5.4326e-04 - accuracy: 1.0000 - val_loss: 2.7512 - val_accuracy: 0.5363\n",
      "Epoch 93/100\n",
      "417/417 - 1s - loss: 5.3120e-04 - accuracy: 1.0000 - val_loss: 2.7575 - val_accuracy: 0.5363\n",
      "Epoch 94/100\n",
      "417/417 - 1s - loss: 5.1940e-04 - accuracy: 1.0000 - val_loss: 2.7634 - val_accuracy: 0.5363\n",
      "Epoch 95/100\n",
      "417/417 - 1s - loss: 5.0816e-04 - accuracy: 1.0000 - val_loss: 2.7698 - val_accuracy: 0.5475\n",
      "Epoch 96/100\n",
      "417/417 - 1s - loss: 4.9685e-04 - accuracy: 1.0000 - val_loss: 2.7757 - val_accuracy: 0.5475\n",
      "Epoch 97/100\n",
      "417/417 - 1s - loss: 4.8626e-04 - accuracy: 1.0000 - val_loss: 2.7810 - val_accuracy: 0.5475\n",
      "Epoch 98/100\n",
      "417/417 - 1s - loss: 4.7606e-04 - accuracy: 1.0000 - val_loss: 2.7872 - val_accuracy: 0.5475\n",
      "Epoch 99/100\n",
      "417/417 - 1s - loss: 4.6639e-04 - accuracy: 1.0000 - val_loss: 2.7927 - val_accuracy: 0.5475\n",
      "Epoch 100/100\n",
      "417/417 - 1s - loss: 4.5599e-04 - accuracy: 1.0000 - val_loss: 2.7982 - val_accuracy: 0.5475\n"
     ]
    }
   ],
   "source": [
    "history = LSTM_EEG.fit(lrDataTrain, markerTargetsTrain, validation_split=.3, epochs=100,verbose=2, batch_size=16)"
   ]
  },
  {
   "cell_type": "code",
   "execution_count": 19,
   "metadata": {},
   "outputs": [
    {
     "data": {
      "text/plain": [
       "Text(0.5, 0, 'epoch')"
      ]
     },
     "execution_count": 19,
     "metadata": {},
     "output_type": "execute_result"
    },
    {
     "data": {
      "image/png": "[encoded data removed]",
      "text/plain": [
       "<Figure size 432x288 with 1 Axes>"
      ]
     },
     "metadata": {
      "needs_background": "light"
     },
     "output_type": "display_data"
    }
   ],
   "source": [
    "plt.plot(history.history['loss'], label='training loss')\n",
    "plt.plot(history.history['val_loss'], label='validation loss')\n",
    "plt.legend()\n",
    "plt.ylabel('loss')\n",
    "plt.xlabel('epoch')"
   ]
  },
  {
   "cell_type": "code",
   "execution_count": 20,
   "metadata": {},
   "outputs": [],
   "source": [
    "predictionsTest = LSTM_EEG.predict(lrDataTest)"
   ]
  },
  {
   "cell_type": "code",
   "execution_count": 21,
   "metadata": {},
   "outputs": [],
   "source": [
    "predictionsTest[predictionsTest>0.5] = 1"
   ]
  },
  {
   "cell_type": "code",
   "execution_count": 22,
   "metadata": {},
   "outputs": [],
   "source": [
    "predictionsTest[predictionsTest <= 0.5] = 0"
   ]
  },
  {
   "cell_type": "code",
   "execution_count": 23,
   "metadata": {},
   "outputs": [],
   "source": [
    "comparisonArrayTest = predictionsTest == markerTargetsTest"
   ]
  },
  {
   "cell_type": "code",
   "execution_count": 53,
   "metadata": {},
   "outputs": [],
   "source": [
    "correctCountTest = 0\n",
    "for boolValues in comparisonArrayTest:\n",
    "    if(boolValues[0] & boolValues[1]):\n",
    "        correctCountTest += 1\n",
    "falseCountTest = lrDataTest.shape[0] - correctCountTest\n",
    "\n",
    "predictionsTrain = LSTM_EEG.predict(lrDataTrain)\n",
    "predictionsTrain[predictionsTrain>0.5] = 1;\n",
    "predictionsTrain[predictionsTrain<=0.5] = 0;\n",
    "comparisonArrayTrain = predictionsTrain == markerTargetsTrain;\n",
    "\n",
    "correctCountTrain = 0\n",
    "for boolValues in comparisonArrayTrain:\n",
    "    if(boolValues[0] & boolValues[1] & boolValues[2]):\n",
    "        correctCountTrain += 1\n",
    "falseCountTrain = lrDataTrain.shape[0] - correctCountTrain"
   ]
  },
  {
   "cell_type": "code",
   "execution_count": 54,
   "metadata": {},
   "outputs": [
    {
     "name": "stdout",
     "output_type": "stream",
     "text": [
      "#################################\n",
      "#################################\n",
      "Training Performance:\n",
      "Correct MI Prediction: 462\n",
      "Incorrect MI Prediction: 134\n",
      "Percent Accuracy: 77.517%\n",
      "#################################\n",
      "#################################\n",
      "Testing Performance:\n",
      "Correct MI Prediction: 144\n",
      "Incorrect MI Prediction: 112\n",
      "Percent Accuracy: 56.250%\n",
      "#################################\n",
      "#################################\n"
     ]
    }
   ],
   "source": [
    "print(\"#################################\")\n",
    "print(\"#################################\")\n",
    "print(\"Training Performance:\\nCorrect MI Prediction: {}\\nIncorrect MI Prediction: {}\\nPercent Accuracy: {:.3f}%\".format(correctCountTrain, falseCountTrain, (correctCountTrain*100/lrDataTrain.shape[0])))\n",
    "print(\"#################################\")\n",
    "print(\"#################################\")\n",
    "print(\"Testing Performance:\\nCorrect MI Prediction: {}\\nIncorrect MI Prediction: {}\\nPercent Accuracy: {:.3f}%\".format(correctCountTest, falseCountTest, (correctCountTest*100/lrDataTest.shape[0])))\n",
    "print(\"#################################\")\n",
    "print(\"#################################\")"
   ]
  },
  {
   "cell_type": "code",
   "execution_count": 26,
   "metadata": {},
   "outputs": [
    {
     "name": "stdout",
     "output_type": "stream",
     "text": [
      "(2, 170)\n",
      "(2, 170)\n",
      "(2, 170)\n"
     ]
    }
   ],
   "source": [
    "## Applying CSP on the data.\n",
    "## Test applying CSP on the first channel\n",
    "exampleLeft = np.transpose(leftData[0])[0:2]\n",
    "exampleRight = np.transpose(rightData[0])[0:2]\n",
    "exampleNone = np.transpose(noneData[0])[0:2]\n",
    "print(exampleLeft.shape)\n",
    "print(exampleRight.shape)\n",
    "print(exampleNone.shape)"
   ]
  },
  {
   "cell_type": "code",
   "execution_count": 27,
   "metadata": {},
   "outputs": [
    {
     "name": "stderr",
     "output_type": "stream",
     "text": [
      "/opt/conda/envs/py37-tf2/lib/python3.7/site-packages/ipykernel_launcher.py:73: ComplexWarning: Casting complex values to real discards the imaginary part\n"
     ]
    }
   ],
   "source": [
    "#Send these two to CSP\n",
    "filters = CSP(leftDataSub, noneData, rightDataSub)"
   ]
  },
  {
   "cell_type": "code",
   "execution_count": 28,
   "metadata": {},
   "outputs": [],
   "source": [
    "filtersArray = np.asarray(filters)"
   ]
  },
  {
   "cell_type": "code",
   "execution_count": 29,
   "metadata": {},
   "outputs": [
    {
     "data": {
      "text/plain": [
       "(3, 170, 170)"
      ]
     },
     "execution_count": 29,
     "metadata": {},
     "output_type": "execute_result"
    }
   ],
   "source": [
    "filtersArray.shape"
   ]
  },
  {
   "cell_type": "code",
   "execution_count": 30,
   "metadata": {},
   "outputs": [],
   "source": [
    "filter1 = filtersArray[0]"
   ]
  },
  {
   "cell_type": "code",
   "execution_count": 31,
   "metadata": {},
   "outputs": [],
   "source": [
    "filter2 = filtersArray[1]"
   ]
  },
  {
   "cell_type": "code",
   "execution_count": 34,
   "metadata": {},
   "outputs": [],
   "source": [
    "filter3 = filtersArray[2]"
   ]
  },
  {
   "cell_type": "code",
   "execution_count": 32,
   "metadata": {},
   "outputs": [],
   "source": [
    "leftData_CSP = np.matmul(np.transpose(filter1), leftDataSub)"
   ]
  },
  {
   "cell_type": "code",
   "execution_count": 33,
   "metadata": {},
   "outputs": [],
   "source": [
    "rightData_CSP = np.matmul(np.transpose(filter2), rightDataSub)"
   ]
  },
  {
   "cell_type": "code",
   "execution_count": 35,
   "metadata": {},
   "outputs": [],
   "source": [
    "noneData_CSP = np.matmul(np.transpose(filter3), noneData)"
   ]
  },
  {
   "cell_type": "code",
   "execution_count": 37,
   "metadata": {},
   "outputs": [
    {
     "name": "stdout",
     "output_type": "stream",
     "text": [
      "lrData_CSP Shape: (852, 170, 21)\tmarkerTargets_CSP Shape: (852, 3)\n"
     ]
    }
   ],
   "source": [
    "#Construct the target array and merge the data\n",
    "leftTargets_CSP = np.tile(np.array([1,0,0]),(keep,1))\n",
    "rightTargets_CSP = np.tile(np.array([0,0,1]), (keep,1))\n",
    "noneTargets_CSP = np.tile(np.array([0,1,0]), (keep,1))\n",
    "markerTargets_CSP = np.vstack((leftTargets_CSP, noneTargets_CSP, rightTargets_CSP))\n",
    "lrData_CSP = np.vstack((leftData_CSP, noneData_CSP, rightData_CSP))\n",
    "\n",
    "#Sanity Check\n",
    "print(\"lrData_CSP Shape: {arg1}\\tmarkerTargets_CSP Shape: {arg2}\".format(arg1=lrData_CSP.shape, arg2=markerTargets_CSP.shape))"
   ]
  },
  {
   "cell_type": "code",
   "execution_count": 38,
   "metadata": {},
   "outputs": [],
   "source": [
    "## Shuffle the data\n",
    "lrData_CSP, markerTargets_CSP = shuffle(lrData_CSP, markerTargets_CSP, random_state=0)"
   ]
  },
  {
   "cell_type": "code",
   "execution_count": 39,
   "metadata": {},
   "outputs": [
    {
     "data": {
      "text/plain": [
       "(596, 3)"
      ]
     },
     "execution_count": 39,
     "metadata": {},
     "output_type": "execute_result"
    }
   ],
   "source": [
    "## Split into train and test sets\n",
    "lrDataTrain_CSP, lrDataTest_CSP, markerTargetsTrain_CSP, markerTargetsTest_CSP = train_test_split(lrData_CSP, markerTargets_CSP, test_size=0.3, random_state=1)\n",
    "markerTargetsTrain_CSP.shape"
   ]
  },
  {
   "cell_type": "code",
   "execution_count": 40,
   "metadata": {},
   "outputs": [],
   "source": [
    "## Reshape the data for time-series processing\n",
    "## Syntax np.reshape((numExamples, numTimeSteps, numInputs/numFeatures))\n",
    "lrDataTrainRe_CSP = lrDataTrain_CSP.reshape((lrDataTrain_CSP.shape[0], lrDataTrain_CSP.shape[1], lrDataTrain_CSP.shape[2]))\n",
    "lrDataTestRe_CSP = lrDataTest_CSP.reshape((lrDataTest_CSP.shape[0], lrDataTest_CSP.shape[1], lrDataTest_CSP.shape[2]))\n"
   ]
  },
  {
   "cell_type": "code",
   "execution_count": 41,
   "metadata": {},
   "outputs": [],
   "source": [
    "## Construct the model\n",
    "LSTM_EEG_CSP = Sequential()\n",
    "LSTM_EEG_CSP.add(LSTM((100),batch_input_shape=(None,lrDataTrainRe_CSP.shape[1], lrDataTrainRe_CSP.shape[2]), return_sequences=True))\n",
    "LSTM_EEG_CSP.add(LSTM((50), return_sequences=False))\n",
    "LSTM_EEG_CSP.add(Dense((3),activation='sigmoid'))"
   ]
  },
  {
   "cell_type": "code",
   "execution_count": 42,
   "metadata": {
    "scrolled": true
   },
   "outputs": [
    {
     "name": "stdout",
     "output_type": "stream",
     "text": [
      "Model: \"sequential_2\"\n",
      "_________________________________________________________________\n",
      "Layer (type)                 Output Shape              Param #   \n",
      "=================================================================\n",
      "lstm_4 (LSTM)                (None, 170, 100)          48800     \n",
      "_________________________________________________________________\n",
      "lstm_5 (LSTM)                (None, 50)                30200     \n",
      "_________________________________________________________________\n",
      "dense_2 (Dense)              (None, 3)                 153       \n",
      "=================================================================\n",
      "Total params: 79,153\n",
      "Trainable params: 79,153\n",
      "Non-trainable params: 0\n",
      "_________________________________________________________________\n"
     ]
    }
   ],
   "source": [
    "LSTM_EEG_CSP.summary()\n",
    "sgd = optimizers.SGD(lr=0.05, decay=1e-6, momentum=0.9, nesterov=True)\n",
    "LSTM_EEG_CSP.compile(loss='categorical_crossentropy', optimizer=sgd, metrics=['accuracy'])"
   ]
  },
  {
   "cell_type": "code",
   "execution_count": 44,
   "metadata": {},
   "outputs": [
    {
     "name": "stdout",
     "output_type": "stream",
     "text": [
      "Train on 417 samples, validate on 179 samples\n",
      "Epoch 1/100\n",
      "417/417 - 1s - loss: 0.0968 - accuracy: 0.9568 - val_loss: 0.0993 - val_accuracy: 0.9721\n",
      "Epoch 2/100\n",
      "417/417 - 1s - loss: 0.0542 - accuracy: 0.9832 - val_loss: 0.1300 - val_accuracy: 0.9553\n",
      "Epoch 3/100\n",
      "417/417 - 1s - loss: 0.0502 - accuracy: 0.9856 - val_loss: 0.1963 - val_accuracy: 0.9218\n",
      "Epoch 4/100\n",
      "417/417 - 1s - loss: 0.0226 - accuracy: 0.9952 - val_loss: 0.2043 - val_accuracy: 0.9385\n",
      "Epoch 5/100\n",
      "417/417 - 1s - loss: 0.0083 - accuracy: 1.0000 - val_loss: 0.1802 - val_accuracy: 0.9162\n",
      "Epoch 6/100\n",
      "417/417 - 1s - loss: 0.0036 - accuracy: 1.0000 - val_loss: 0.1788 - val_accuracy: 0.9274\n",
      "Epoch 7/100\n",
      "417/417 - 1s - loss: 0.0027 - accuracy: 1.0000 - val_loss: 0.1790 - val_accuracy: 0.9274\n",
      "Epoch 8/100\n",
      "417/417 - 1s - loss: 0.0023 - accuracy: 1.0000 - val_loss: 0.1779 - val_accuracy: 0.9274\n",
      "Epoch 9/100\n",
      "417/417 - 1s - loss: 0.0020 - accuracy: 1.0000 - val_loss: 0.1778 - val_accuracy: 0.9274\n",
      "Epoch 10/100\n",
      "417/417 - 1s - loss: 0.0018 - accuracy: 1.0000 - val_loss: 0.1761 - val_accuracy: 0.9274\n",
      "Epoch 11/100\n",
      "417/417 - 1s - loss: 0.0016 - accuracy: 1.0000 - val_loss: 0.1815 - val_accuracy: 0.9274\n",
      "Epoch 12/100\n",
      "417/417 - 1s - loss: 0.0015 - accuracy: 1.0000 - val_loss: 0.1805 - val_accuracy: 0.9274\n",
      "Epoch 13/100\n",
      "417/417 - 1s - loss: 0.0014 - accuracy: 1.0000 - val_loss: 0.1812 - val_accuracy: 0.9274\n",
      "Epoch 14/100\n",
      "417/417 - 1s - loss: 0.0013 - accuracy: 1.0000 - val_loss: 0.1821 - val_accuracy: 0.9274\n",
      "Epoch 15/100\n",
      "417/417 - 1s - loss: 0.0012 - accuracy: 1.0000 - val_loss: 0.1823 - val_accuracy: 0.9274\n",
      "Epoch 16/100\n",
      "417/417 - 1s - loss: 0.0012 - accuracy: 1.0000 - val_loss: 0.1826 - val_accuracy: 0.9274\n",
      "Epoch 17/100\n",
      "417/417 - 1s - loss: 0.0011 - accuracy: 1.0000 - val_loss: 0.1823 - val_accuracy: 0.9274\n",
      "Epoch 18/100\n",
      "417/417 - 1s - loss: 0.0010 - accuracy: 1.0000 - val_loss: 0.1831 - val_accuracy: 0.9274\n",
      "Epoch 19/100\n",
      "417/417 - 1s - loss: 9.6014e-04 - accuracy: 1.0000 - val_loss: 0.1846 - val_accuracy: 0.9274\n",
      "Epoch 20/100\n",
      "417/417 - 1s - loss: 9.1414e-04 - accuracy: 1.0000 - val_loss: 0.1851 - val_accuracy: 0.9274\n",
      "Epoch 21/100\n",
      "417/417 - 1s - loss: 8.7015e-04 - accuracy: 1.0000 - val_loss: 0.1857 - val_accuracy: 0.9274\n",
      "Epoch 22/100\n",
      "417/417 - 1s - loss: 8.2943e-04 - accuracy: 1.0000 - val_loss: 0.1855 - val_accuracy: 0.9274\n",
      "Epoch 23/100\n",
      "417/417 - 1s - loss: 7.9473e-04 - accuracy: 1.0000 - val_loss: 0.1860 - val_accuracy: 0.9274\n",
      "Epoch 24/100\n",
      "417/417 - 1s - loss: 7.6333e-04 - accuracy: 1.0000 - val_loss: 0.1869 - val_accuracy: 0.9274\n",
      "Epoch 25/100\n",
      "417/417 - 1s - loss: 7.3672e-04 - accuracy: 1.0000 - val_loss: 0.1883 - val_accuracy: 0.9274\n",
      "Epoch 26/100\n",
      "417/417 - 1s - loss: 7.1096e-04 - accuracy: 1.0000 - val_loss: 0.1887 - val_accuracy: 0.9274\n",
      "Epoch 27/100\n",
      "417/417 - 1s - loss: 6.8712e-04 - accuracy: 1.0000 - val_loss: 0.1900 - val_accuracy: 0.9274\n",
      "Epoch 28/100\n",
      "417/417 - 1s - loss: 6.6579e-04 - accuracy: 1.0000 - val_loss: 0.1905 - val_accuracy: 0.9274\n",
      "Epoch 29/100\n",
      "417/417 - 1s - loss: 6.4539e-04 - accuracy: 1.0000 - val_loss: 0.1906 - val_accuracy: 0.9274\n",
      "Epoch 30/100\n",
      "417/417 - 1s - loss: 6.2516e-04 - accuracy: 1.0000 - val_loss: 0.1916 - val_accuracy: 0.9274\n",
      "Epoch 31/100\n",
      "417/417 - 1s - loss: 6.0688e-04 - accuracy: 1.0000 - val_loss: 0.1924 - val_accuracy: 0.9274\n",
      "Epoch 32/100\n",
      "417/417 - 1s - loss: 5.8952e-04 - accuracy: 1.0000 - val_loss: 0.1936 - val_accuracy: 0.9274\n",
      "Epoch 33/100\n",
      "417/417 - 1s - loss: 5.7277e-04 - accuracy: 1.0000 - val_loss: 0.1943 - val_accuracy: 0.9274\n",
      "Epoch 34/100\n",
      "417/417 - 1s - loss: 5.5658e-04 - accuracy: 1.0000 - val_loss: 0.1948 - val_accuracy: 0.9274\n",
      "Epoch 35/100\n",
      "417/417 - 1s - loss: 5.4268e-04 - accuracy: 1.0000 - val_loss: 0.1961 - val_accuracy: 0.9274\n",
      "Epoch 36/100\n",
      "417/417 - 1s - loss: 5.2881e-04 - accuracy: 1.0000 - val_loss: 0.1968 - val_accuracy: 0.9274\n",
      "Epoch 37/100\n",
      "417/417 - 1s - loss: 5.1559e-04 - accuracy: 1.0000 - val_loss: 0.1978 - val_accuracy: 0.9274\n",
      "Epoch 38/100\n",
      "417/417 - 1s - loss: 5.0282e-04 - accuracy: 1.0000 - val_loss: 0.1984 - val_accuracy: 0.9274\n",
      "Epoch 39/100\n",
      "417/417 - 1s - loss: 4.9073e-04 - accuracy: 1.0000 - val_loss: 0.1993 - val_accuracy: 0.9274\n",
      "Epoch 40/100\n",
      "417/417 - 1s - loss: 4.7951e-04 - accuracy: 1.0000 - val_loss: 0.2001 - val_accuracy: 0.9274\n",
      "Epoch 41/100\n",
      "417/417 - 1s - loss: 4.6909e-04 - accuracy: 1.0000 - val_loss: 0.2004 - val_accuracy: 0.9274\n",
      "Epoch 42/100\n",
      "417/417 - 1s - loss: 4.5852e-04 - accuracy: 1.0000 - val_loss: 0.2011 - val_accuracy: 0.9274\n",
      "Epoch 43/100\n",
      "417/417 - 1s - loss: 4.4870e-04 - accuracy: 1.0000 - val_loss: 0.2013 - val_accuracy: 0.9274\n",
      "Epoch 44/100\n",
      "417/417 - 1s - loss: 4.3879e-04 - accuracy: 1.0000 - val_loss: 0.2022 - val_accuracy: 0.9274\n",
      "Epoch 45/100\n",
      "417/417 - 1s - loss: 4.2947e-04 - accuracy: 1.0000 - val_loss: 0.2032 - val_accuracy: 0.9274\n",
      "Epoch 46/100\n",
      "417/417 - 1s - loss: 4.2061e-04 - accuracy: 1.0000 - val_loss: 0.2042 - val_accuracy: 0.9274\n",
      "Epoch 47/100\n",
      "417/417 - 1s - loss: 4.1231e-04 - accuracy: 1.0000 - val_loss: 0.2045 - val_accuracy: 0.9274\n",
      "Epoch 48/100\n",
      "417/417 - 1s - loss: 4.0397e-04 - accuracy: 1.0000 - val_loss: 0.2048 - val_accuracy: 0.9274\n",
      "Epoch 49/100\n",
      "417/417 - 1s - loss: 3.9573e-04 - accuracy: 1.0000 - val_loss: 0.2053 - val_accuracy: 0.9274\n",
      "Epoch 50/100\n",
      "417/417 - 1s - loss: 3.8812e-04 - accuracy: 1.0000 - val_loss: 0.2053 - val_accuracy: 0.9274\n",
      "Epoch 51/100\n",
      "417/417 - 1s - loss: 3.8092e-04 - accuracy: 1.0000 - val_loss: 0.2056 - val_accuracy: 0.9274\n",
      "Epoch 52/100\n",
      "417/417 - 1s - loss: 3.7399e-04 - accuracy: 1.0000 - val_loss: 0.2060 - val_accuracy: 0.9274\n",
      "Epoch 53/100\n",
      "417/417 - 1s - loss: 3.6722e-04 - accuracy: 1.0000 - val_loss: 0.2069 - val_accuracy: 0.9218\n",
      "Epoch 54/100\n",
      "417/417 - 1s - loss: 3.6068e-04 - accuracy: 1.0000 - val_loss: 0.2081 - val_accuracy: 0.9218\n",
      "Epoch 55/100\n",
      "417/417 - 1s - loss: 3.5435e-04 - accuracy: 1.0000 - val_loss: 0.2085 - val_accuracy: 0.9218\n",
      "Epoch 56/100\n",
      "417/417 - 1s - loss: 3.4797e-04 - accuracy: 1.0000 - val_loss: 0.2094 - val_accuracy: 0.9218\n",
      "Epoch 57/100\n",
      "417/417 - 1s - loss: 3.4221e-04 - accuracy: 1.0000 - val_loss: 0.2100 - val_accuracy: 0.9218\n",
      "Epoch 58/100\n",
      "417/417 - 1s - loss: 3.3649e-04 - accuracy: 1.0000 - val_loss: 0.2104 - val_accuracy: 0.9218\n",
      "Epoch 59/100\n",
      "417/417 - 1s - loss: 3.3130e-04 - accuracy: 1.0000 - val_loss: 0.2106 - val_accuracy: 0.9218\n",
      "Epoch 60/100\n",
      "417/417 - 1s - loss: 3.2556e-04 - accuracy: 1.0000 - val_loss: 0.2108 - val_accuracy: 0.9218\n",
      "Epoch 61/100\n",
      "417/417 - 0s - loss: 3.2034e-04 - accuracy: 1.0000 - val_loss: 0.2112 - val_accuracy: 0.9218\n",
      "Epoch 62/100\n",
      "417/417 - 0s - loss: 3.1515e-04 - accuracy: 1.0000 - val_loss: 0.2114 - val_accuracy: 0.9218\n",
      "Epoch 63/100\n",
      "417/417 - 1s - loss: 3.1012e-04 - accuracy: 1.0000 - val_loss: 0.2118 - val_accuracy: 0.9218\n",
      "Epoch 64/100\n",
      "417/417 - 1s - loss: 3.0549e-04 - accuracy: 1.0000 - val_loss: 0.2123 - val_accuracy: 0.9218\n",
      "Epoch 65/100\n",
      "417/417 - 1s - loss: 3.0098e-04 - accuracy: 1.0000 - val_loss: 0.2126 - val_accuracy: 0.9218\n",
      "Epoch 66/100\n",
      "417/417 - 1s - loss: 2.9668e-04 - accuracy: 1.0000 - val_loss: 0.2127 - val_accuracy: 0.9218\n",
      "Epoch 67/100\n",
      "417/417 - 1s - loss: 2.9251e-04 - accuracy: 1.0000 - val_loss: 0.2129 - val_accuracy: 0.9218\n",
      "Epoch 68/100\n",
      "417/417 - 1s - loss: 2.8823e-04 - accuracy: 1.0000 - val_loss: 0.2135 - val_accuracy: 0.9218\n",
      "Epoch 69/100\n",
      "417/417 - 1s - loss: 2.8424e-04 - accuracy: 1.0000 - val_loss: 0.2137 - val_accuracy: 0.9218\n",
      "Epoch 70/100\n",
      "417/417 - 1s - loss: 2.8035e-04 - accuracy: 1.0000 - val_loss: 0.2137 - val_accuracy: 0.9218\n",
      "Epoch 71/100\n",
      "417/417 - 1s - loss: 2.7657e-04 - accuracy: 1.0000 - val_loss: 0.2142 - val_accuracy: 0.9218\n",
      "Epoch 72/100\n",
      "417/417 - 1s - loss: 2.7260e-04 - accuracy: 1.0000 - val_loss: 0.2146 - val_accuracy: 0.9218\n",
      "Epoch 73/100\n",
      "417/417 - 1s - loss: 2.6899e-04 - accuracy: 1.0000 - val_loss: 0.2148 - val_accuracy: 0.9218\n",
      "Epoch 74/100\n",
      "417/417 - 1s - loss: 2.6555e-04 - accuracy: 1.0000 - val_loss: 0.2151 - val_accuracy: 0.9218\n",
      "Epoch 75/100\n",
      "417/417 - 1s - loss: 2.6207e-04 - accuracy: 1.0000 - val_loss: 0.2154 - val_accuracy: 0.9218\n",
      "Epoch 76/100\n",
      "417/417 - 1s - loss: 2.5874e-04 - accuracy: 1.0000 - val_loss: 0.2156 - val_accuracy: 0.9218\n",
      "Epoch 77/100\n",
      "417/417 - 1s - loss: 2.5533e-04 - accuracy: 1.0000 - val_loss: 0.2147 - val_accuracy: 0.9218\n",
      "Epoch 78/100\n",
      "417/417 - 1s - loss: 2.5146e-04 - accuracy: 1.0000 - val_loss: 0.2150 - val_accuracy: 0.9218\n",
      "Epoch 79/100\n",
      "417/417 - 1s - loss: 2.4821e-04 - accuracy: 1.0000 - val_loss: 0.2155 - val_accuracy: 0.9218\n",
      "Epoch 80/100\n",
      "417/417 - 1s - loss: 2.4525e-04 - accuracy: 1.0000 - val_loss: 0.2159 - val_accuracy: 0.9218\n",
      "Epoch 81/100\n",
      "417/417 - 1s - loss: 2.4227e-04 - accuracy: 1.0000 - val_loss: 0.2162 - val_accuracy: 0.9218\n",
      "Epoch 82/100\n",
      "417/417 - 1s - loss: 2.3939e-04 - accuracy: 1.0000 - val_loss: 0.2166 - val_accuracy: 0.9218\n",
      "Epoch 83/100\n",
      "417/417 - 1s - loss: 2.3660e-04 - accuracy: 1.0000 - val_loss: 0.2170 - val_accuracy: 0.9218\n",
      "Epoch 84/100\n",
      "417/417 - 1s - loss: 2.3371e-04 - accuracy: 1.0000 - val_loss: 0.2171 - val_accuracy: 0.9218\n",
      "Epoch 85/100\n",
      "417/417 - 1s - loss: 2.3071e-04 - accuracy: 1.0000 - val_loss: 0.2170 - val_accuracy: 0.9218\n",
      "Epoch 86/100\n",
      "417/417 - 1s - loss: 2.2771e-04 - accuracy: 1.0000 - val_loss: 0.2159 - val_accuracy: 0.9218\n",
      "Epoch 87/100\n",
      "417/417 - 1s - loss: 2.2515e-04 - accuracy: 1.0000 - val_loss: 0.2162 - val_accuracy: 0.9218\n",
      "Epoch 88/100\n",
      "417/417 - 1s - loss: 2.2246e-04 - accuracy: 1.0000 - val_loss: 0.2166 - val_accuracy: 0.9218\n",
      "Epoch 89/100\n",
      "417/417 - 1s - loss: 2.1996e-04 - accuracy: 1.0000 - val_loss: 0.2169 - val_accuracy: 0.9218\n",
      "Epoch 90/100\n",
      "417/417 - 1s - loss: 2.1750e-04 - accuracy: 1.0000 - val_loss: 0.2173 - val_accuracy: 0.9218\n",
      "Epoch 91/100\n",
      "417/417 - 1s - loss: 2.1516e-04 - accuracy: 1.0000 - val_loss: 0.2177 - val_accuracy: 0.9218\n",
      "Epoch 92/100\n",
      "417/417 - 1s - loss: 2.1277e-04 - accuracy: 1.0000 - val_loss: 0.2181 - val_accuracy: 0.9218\n",
      "Epoch 93/100\n",
      "417/417 - 1s - loss: 2.1046e-04 - accuracy: 1.0000 - val_loss: 0.2185 - val_accuracy: 0.9218\n",
      "Epoch 94/100\n",
      "417/417 - 1s - loss: 2.0830e-04 - accuracy: 1.0000 - val_loss: 0.2188 - val_accuracy: 0.9218\n",
      "Epoch 95/100\n",
      "417/417 - 1s - loss: 2.0615e-04 - accuracy: 1.0000 - val_loss: 0.2192 - val_accuracy: 0.9218\n",
      "Epoch 96/100\n",
      "417/417 - 1s - loss: 2.0400e-04 - accuracy: 1.0000 - val_loss: 0.2195 - val_accuracy: 0.9218\n",
      "Epoch 97/100\n",
      "417/417 - 1s - loss: 2.0196e-04 - accuracy: 1.0000 - val_loss: 0.2197 - val_accuracy: 0.9218\n",
      "Epoch 98/100\n",
      "417/417 - 1s - loss: 1.9989e-04 - accuracy: 1.0000 - val_loss: 0.2200 - val_accuracy: 0.9218\n",
      "Epoch 99/100\n",
      "417/417 - 1s - loss: 1.9802e-04 - accuracy: 1.0000 - val_loss: 0.2204 - val_accuracy: 0.9218\n",
      "Epoch 100/100\n",
      "417/417 - 1s - loss: 1.9602e-04 - accuracy: 1.0000 - val_loss: 0.2208 - val_accuracy: 0.9218\n"
     ]
    }
   ],
   "source": [
    "history_CSP = LSTM_EEG_CSP.fit(lrDataTrain_CSP, markerTargetsTrain_CSP, epochs=100,verbose=2, batch_size=16, validation_split=.3)"
   ]
  },
  {
   "cell_type": "code",
   "execution_count": 45,
   "metadata": {},
   "outputs": [],
   "source": [
    "predictionsTest_CSP = LSTM_EEG_CSP.predict(lrDataTest_CSP)"
   ]
  },
  {
   "cell_type": "code",
   "execution_count": 46,
   "metadata": {},
   "outputs": [],
   "source": [
    "predictionsTest_CSP[predictionsTest_CSP>0.5] = 1"
   ]
  },
  {
   "cell_type": "code",
   "execution_count": 47,
   "metadata": {},
   "outputs": [],
   "source": [
    "predictionsTest_CSP[predictionsTest_CSP <= 0.5] = 0"
   ]
  },
  {
   "cell_type": "code",
   "execution_count": 48,
   "metadata": {},
   "outputs": [],
   "source": [
    "comparisonArrayTest_CSP = predictionsTest_CSP == markerTargetsTest_CSP"
   ]
  },
  {
   "cell_type": "code",
   "execution_count": 51,
   "metadata": {},
   "outputs": [],
   "source": [
    "correctCountTest = 0\n",
    "for boolValues in comparisonArrayTest_CSP:\n",
    "    if(boolValues[0] & boolValues[1] & boolValues[2]):\n",
    "        correctCountTest += 1\n",
    "falseCountTest = lrDataTest_CSP.shape[0] - correctCountTest\n",
    "\n",
    "predictionsTrain = LSTM_EEG_CSP.predict(lrDataTrain_CSP)\n",
    "predictionsTrain[predictionsTrain>0.5] = 1;\n",
    "predictionsTrain[predictionsTrain<=0.5] = 0;\n",
    "comparisonArrayTrain = predictionsTrain == markerTargetsTrain;\n",
    "\n",
    "correctCountTrain = 0\n",
    "for boolValues in comparisonArrayTrain:\n",
    "    if(boolValues[0] & boolValues[1]):\n",
    "        correctCountTrain += 1\n",
    "falseCountTrain = lrDataTrain_CSP.shape[0] - correctCountTrain"
   ]
  },
  {
   "cell_type": "code",
   "execution_count": 52,
   "metadata": {},
   "outputs": [
    {
     "name": "stdout",
     "output_type": "stream",
     "text": [
      "#################################\n",
      "#################################\n",
      "### RESULTS AFTER APPLYING CSP ##\n",
      "#################################\n",
      "#################################\n",
      "#################################\n",
      "#################################\n",
      "Training Performance:\n",
      "Correct MI Prediction: 447\n",
      "Incorrect MI Prediction: 149\n",
      "Percent Accuracy: 75.000%\n",
      "#################################\n",
      "#################################\n",
      "Testing Performance:\n",
      "Correct MI Prediction: 60\n",
      "Incorrect MI Prediction: 196\n",
      "Percent Accuracy: 23.438%\n",
      "#################################\n",
      "#################################\n"
     ]
    }
   ],
   "source": [
    "print(\"#################################\")\n",
    "print(\"#################################\")\n",
    "print(\"### RESULTS AFTER APPLYING CSP ##\")\n",
    "print(\"#################################\")\n",
    "print(\"#################################\")\n",
    "print(\"#################################\")\n",
    "print(\"#################################\")\n",
    "print(\"Training Performance:\\nCorrect MI Prediction: {}\\nIncorrect MI Prediction: {}\\nPercent Accuracy: {:.3f}%\".format(correctCountTrain, falseCountTrain, (correctCountTrain*100/lrDataTrain.shape[0])))\n",
    "print(\"#################################\")\n",
    "print(\"#################################\")\n",
    "print(\"Testing Performance:\\nCorrect MI Prediction: {}\\nIncorrect MI Prediction: {}\\nPercent Accuracy: {:.3f}%\".format(correctCountTest, falseCountTest, (correctCountTest*100/lrDataTest.shape[0])))\n",
    "print(\"#################################\")\n",
    "print(\"#################################\")"
   ]
  },
  {
   "cell_type": "code",
   "execution_count": null,
   "metadata": {},
   "outputs": [],
   "source": []
  },
  {
   "cell_type": "code",
   "execution_count": null,
   "metadata": {},
   "outputs": [],
   "source": []
  }
 ],
 "metadata": {
  "kernelspec": {
   "display_name": "Python 3",
   "language": "python",
   "name": "python3"
  },
  "language_info": {
   "codemirror_mode": {
    "name": "ipython",
    "version": 3
   },
   "file_extension": ".py",
   "mimetype": "text/x-python",
   "name": "python",
   "nbconvert_exporter": "python",
   "pygments_lexer": "ipython3",
   "version": "3.7.3"
  }
 },
 "nbformat": 4,
 "nbformat_minor": 4
}
